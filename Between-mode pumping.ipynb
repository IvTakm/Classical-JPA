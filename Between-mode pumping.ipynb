{
 "cells": [
  {
   "cell_type": "code",
   "execution_count": 1,
   "metadata": {
    "collapsed": true
   },
   "outputs": [],
   "source": [
    "from numpy import linspace\n",
    "import numpy as np\n",
    "import scipy\n",
    "import scipy.optimize\n",
    "from cmath import *\n",
    "\n",
    "import matplotlib.pyplot as plt\n",
    "import matplotlib.cm as cmx\n",
    "import matplotlib.colors as colors\n",
    "\n",
    "def get_cmap(N):\n",
    "    '''Returns a function that maps each index in 0, 1, ... N-1 to a distinct \n",
    "    RGB color.'''\n",
    "    color_norm  = colors.Normalize(vmin=0, vmax=N-1)\n",
    "    scalar_map = cmx.ScalarMappable(norm=color_norm, cmap='hsv') \n",
    "    def map_index_to_rgb_color(index):\n",
    "        return scalar_map.to_rgba(index)\n",
    "    return map_index_to_rgb_color"
   ]
  },
  {
   "cell_type": "markdown",
   "metadata": {},
   "source": [
    "# Paramaters calc"
   ]
  },
  {
   "cell_type": "code",
   "execution_count": 2,
   "metadata": {
    "collapsed": false
   },
   "outputs": [
    {
     "name": "stdout",
     "output_type": "stream",
     "text": [
      "0.08 nH\n",
      "28.149155302012247 GHz\n"
     ]
    }
   ],
   "source": [
    "#Defenition of all matrices/params\n",
    "pi = 3.14159265359\n",
    "hbar = 1.054e-34\n",
    "fi_0 = 2.07e-15/2/np.pi\n",
    "\n",
    "#ALSO - mb add non-Jos inductance?\n",
    "\n",
    "C_J = 0.4e-12#0.8e-12\n",
    "I_J =  8e-6\n",
    "L_J = .08e-9#fi_0 / I_J\n",
    "E_J = fi_0**2 / L_J\n",
    " \n",
    "N = 2000#300#80\n",
    "    \n",
    "C_out = 20e-15\n",
    "C_0 = 1e-15\n",
    "\n",
    "\n",
    "print(L_J*1e9, 'nH')\n",
    "print((C_J*L_J)**(-0.5) /6.28e9, 'GHz')\n",
    "################################\n",
    "\n",
    "C = []\n",
    "L = []# ^-1\n",
    "\n",
    "for i in range(N+1):\n",
    "    C.append([])\n",
    "    L.append([])\n",
    "    for j in range(N+1):\n",
    "        if ((i==0)&(j==0)):\n",
    "            #L[i].append(1./L_J) #lambda/2 \n",
    "            #C[i].append(C_J)    #lambda/2\n",
    "            L[i].append(2./L_J)\n",
    "            C[i].append(2*C_J + C_0)\n",
    "            continue\n",
    "        \n",
    "        if ((i==N)&(j==N)):\n",
    "            L[i].append(1./L_J) #correctr\n",
    "            C[i].append(C_J + C_out)\n",
    "            #L[i].append(2./L_J)\n",
    "            continue\n",
    "            \n",
    "        if (i==j):\n",
    "            L[i].append(2./L_J)\n",
    "            C[i].append(2*C_J + C_0)\n",
    "            continue\n",
    "            \n",
    "        if ((j==i+1)or(j==i-1)):\n",
    "            L[i].append(-1./L_J)\n",
    "            C[i].append(-C_J)\n",
    "            continue\n",
    "        L[i].append(0.)\n",
    "        C[i].append(0.)\n",
    "\n",
    "L = np.array(L)\n",
    "C_inv = scipy.linalg.inv(np.array(C))"
   ]
  },
  {
   "cell_type": "code",
   "execution_count": 3,
   "metadata": {
    "collapsed": false
   },
   "outputs": [],
   "source": [
    "C_inv_sqrt= np.mat(scipy.linalg.sqrtm(C_inv))\n",
    "L_m = np.mat(L)\n",
    "\n",
    "A=C_inv_sqrt*L*C_inv_sqrt\n",
    "\n",
    "(freqs,psi) = scipy.linalg.eigh(A,overwrite_a=True)\n",
    "\n",
    "mode = np.sqrt(freqs)\n",
    "nums = linspace(1,N+1, N + 1)\n",
    "\n",
    "plt.plot(nums,(mode)/2/np.pi/1e9,'ro')\n",
    "plt.xlim(0,10)\n",
    "plt.show()"
   ]
  },
  {
   "cell_type": "code",
   "execution_count": 4,
   "metadata": {
    "collapsed": true
   },
   "outputs": [],
   "source": [
    "modeNumber = 3\n",
    "\n",
    "def Phi(k):#Correct??????\n",
    "    return(C_inv_sqrt*psi *np.sqrt(hbar)/mode[k]**0.5)\n",
    "\n",
    "\n",
    "psi_norm = C_inv_sqrt* psi \n",
    "\n",
    "psi_arr = np.array(psi.T)\n",
    "\n",
    "\n",
    "phase_norm_luca = np.array((psi_norm * ((2*np.pi)/fi_0)*np.sqrt(hbar)/2/np.array(mode)**0.5).T) #Luca's numbers\n",
    "\n",
    "phase_norm_quanta = np.array((psi_norm * ((2*np.pi)*fi_0)**-1 *np.sqrt(hbar)/2/np.array(mode)**0.5).T)\n",
    "\n",
    "plt.plot(nums,(phase_norm_quanta[modeNumber]),'ro', label = 'F/F_0')\n",
    "#plt.plot(nums,(phase_norm_luca[modeNumber]),'ro', label = 'Luca')\n",
    "\n",
    "plt.legend(loc = 'best')\n",
    "#plt.plot(nums,psi_arr[0],'ro')\n",
    "plt.show()\n",
    "#print freqs[]**0.5/6.28e9"
   ]
  },
  {
   "cell_type": "markdown",
   "metadata": {},
   "source": [
    "# Going for continious calcilations"
   ]
  },
  {
   "cell_type": "code",
   "execution_count": 116,
   "metadata": {
    "collapsed": false
   },
   "outputs": [],
   "source": [
    "n = linspace(0, N-1, N)\n",
    "fr = []\n",
    "\n",
    "def ka(n):\n",
    "    return( (n + .5) * pi / N )\n",
    "\n",
    "\n",
    "#def fun(k):\n",
    "#    return( (2*L_J / pi**2 * (0.5*C_0*N**2 /k**2 + 0.5* pi**2*C_J ) )**-0.5)\n",
    "def mode_freq(k):\n",
    "    return ( (L_J * C_J + C_0 * L_J / ka(k)**2)**-0.5 )\n",
    "              \n",
    "plt.plot(n+1, mode_freq(n)/6.28e9, 'ro')\n",
    "fr = mode_freq(n)\n",
    "#plt.xlim(0,10)\n",
    "#plt.ylim(8.,12.)\n",
    "plt.show()"
   ]
  },
  {
   "cell_type": "code",
   "execution_count": 117,
   "metadata": {
    "collapsed": true
   },
   "outputs": [],
   "source": [
    "def L(i):\n",
    "    return(2.*L_J/N / ka(i)**2)\n",
    "\n",
    "def eta_K(i,j,k,l):\n",
    "    def function(t):\n",
    "        return( np.cos(N*ka(i)*t) * np.cos(N*ka(j)*t) *np.cos(N*ka(k)*t) *np.cos(N*ka(l)*t) )\n",
    "    return( scipy.integrate.quad(function, 0., 1.)[0])\n",
    "\n",
    "def K(i,j,k,l):\n",
    "    buf =  -  N * ka(i)*ka(j)*ka(k)*ka(l)* eta_K(i,j,k,l) / 24. / L_J/ fi_0**2\n",
    "    buf = buf * (0.5*hbar)**2 * (L(i) * mode_freq(i))**0.5 * (L(j) * mode_freq(j))**0.5 *(L(k) * mode_freq(k))**0.5 *(L(l) * mode_freq(l))**0.5\n",
    "    return buf/ hbar * 2."
   ]
  },
  {
   "cell_type": "code",
   "execution_count": 135,
   "metadata": {
    "collapsed": false,
    "scrolled": true
   },
   "outputs": [
    {
     "name": "stdout",
     "output_type": "stream",
     "text": [
      "-3.722545076244793 -4.379603032237893\n",
      "-2.691820507765777\n",
      "-6.11564162618154e-15 -5.806699822245945e-15\n"
     ]
    }
   ],
   "source": [
    "idler_mode = 11\n",
    "signal_mode = 10\n",
    "\n",
    "s = signal_mode\n",
    "i = idler_mode\n",
    "\n",
    "K_ssss = K(s,s,s,s)\n",
    "K_iiii = K(i,i,i,i)\n",
    "K_sssi = K(s,s,s,i)\n",
    "K_ssii = K(s,s,i,i)\n",
    "K_iiis = K(i,i,i,s)\n",
    "\n",
    "print(K_ssss/1e3, K_iiii/1e3)\n",
    "print(K_ssii/1e3)\n",
    "print(K_sssi/1e3,K_iiis/1e3)"
   ]
  },
  {
   "cell_type": "markdown",
   "metadata": {
    "collapsed": false
   },
   "source": [
    "## Kerr coeffs from discrete Hamiltonian"
   ]
  },
  {
   "cell_type": "code",
   "execution_count": 5,
   "metadata": {
    "collapsed": false
   },
   "outputs": [],
   "source": [
    "alpha =  - 0.5* hbar/(24. * L_J * fi_0**2)\n",
    "\n",
    "bla = np.array(C_inv_sqrt)\n",
    "\n",
    "def eta_inside(x,j):\n",
    "    A=bla[x+1]\n",
    "    B=bla[x]\n",
    "    C=np.array(psi_arr)[j]\n",
    "    D=np.sqrt(C_J)*(A-B)*C\n",
    "    return np.sum(D)\n",
    "\n",
    "\n",
    "def eta(j,k,l,m):\n",
    "    A=[eta_inside(x,j) * eta_inside(x,k) * eta_inside(x,l) * eta_inside(x,m) for x in range(N)]\n",
    "    return np.sum(A)\n",
    "\n",
    "\n",
    "def beta(j,k,l,m):\n",
    "    return(-np.abs(alpha *eta(j,k,l,m) / np.sqrt(mode[j]) / np.sqrt(mode[k]) / np.sqrt(mode[l])/ np.sqrt(mode[m])/ C_J**2))"
   ]
  },
  {
   "cell_type": "code",
   "execution_count": 6,
   "metadata": {
    "collapsed": false
   },
   "outputs": [
    {
     "name": "stdout",
     "output_type": "stream",
     "text": [
      "-7.09571238489 -6.35713981902\n",
      "-4.47661865097\n",
      "-0.0152751025349 -0.0147951604444\n"
     ]
    }
   ],
   "source": [
    "idler_mode = 14\n",
    "signal_mode = 15\n",
    "\n",
    "s = signal_mode\n",
    "i = idler_mode\n",
    "\n",
    "K_ssss = beta(s,s,s,s)\n",
    "K_iiii = beta(i,i,i,i)\n",
    "K_sssi = beta(s,s,s,i)\n",
    "K_ssii = beta(s,s,i,i)\n",
    "K_iiis = beta(i,i,i,s)\n",
    "\n",
    "print(K_ssss/1e3, K_iiii/1e3)\n",
    "print(K_ssii/1e3)\n",
    "print(K_sssi/1e3,K_iiis/1e3)"
   ]
  },
  {
   "cell_type": "markdown",
   "metadata": {},
   "source": [
    "# Calculations"
   ]
  },
  {
   "cell_type": "markdown",
   "metadata": {},
   "source": [
    "Now I calculate alpha_l and alpha_r.\n",
    "There are, in principal, cross-Kerr terms, so i should include them.\n",
    "But for now I will treat modes independently"
   ]
  },
  {
   "cell_type": "code",
   "execution_count": 157,
   "metadata": {
    "collapsed": false
   },
   "outputs": [
    {
     "name": "stdout",
     "output_type": "stream",
     "text": [
      "11.5759853559 12.228350018\n",
      "-85148.5486187 -76285.6778282\n",
      "450.518898664\n",
      "0.69059365852\n"
     ]
    }
   ],
   "source": [
    "# idler_mode = 13\n",
    "# signal_mode = 14\n",
    "\n",
    "w_i0 = mode[idler_mode]\n",
    "w_s0 = mode[signal_mode]\n",
    "w_mid = (w_s0 + w_i0 )/ 2.\n",
    "\n",
    "#Correct!!!!!\n",
    "K_s = 12*K_ssss#K(signal_mode, signal_mode,signal_mode,signal_mode)\n",
    "K_i = 12*K_iiii#K(idler_mode,idler_mode,idler_mode,idler_mode)\n",
    "\n",
    "\n",
    "Q_i = 25.\n",
    "\n",
    "kappa_i = w_i0/Q_i\n",
    "kappa = kappa_s = kappa_i * (w_i0/w_s0)**0.5\n",
    "\n",
    "print(w_i0/6.28e9, w_s0/6.28e9)\n",
    "print(K_s, K_i)\n",
    "print(kappa_s/6.28e6)\n",
    "print(kappa / (w_s0 - w_i0))"
   ]
  },
  {
   "cell_type": "markdown",
   "metadata": {},
   "source": [
    "Preserving nonlinear cross-terms in NonlResp"
   ]
  },
  {
   "cell_type": "code",
   "execution_count": 75,
   "metadata": {
    "collapsed": false
   },
   "outputs": [],
   "source": [
    "##################################################\n",
    "#Alphas(alphas_in)               ##\n",
    "##################################################\n",
    "w_p_real = (w_s0 + w_i0)/2\n",
    "\n",
    "def getPumpAlpha(alpha_in, w_p, w_p0, kappa_p, K_p):\n",
    "    def f(x,w_p):\n",
    "        return( (  (w_p - w_p0)**2 + 0.25*kappa_p**2 )*x - 2*(w_p - w_p0)*K_p*x**2 + K_p**2 * x**3 - kappa_p * alpha_in**2 )\n",
    "    \n",
    "    a = (scipy.optimize.bisect(lambda x: f(x, w_p), 0,1e9, xtol=1e-17))**0.5\n",
    "    \n",
    "    return(a)\n",
    "\n",
    "def getAlphas(alpha_in, w_p):\n",
    "    a = np.zeros(2)\n",
    "    a[0] = getPumpAlpha(alpha_in, w_p, w_s0, kappa_s, K_s)\n",
    "    a[1] = getPumpAlpha(alpha_in, w_p, w_i0, kappa_i, K_i)\n",
    "    return a\n",
    "\n",
    "######################\n",
    "\n",
    "freq_min = w_i0 - 3 * kappa_i\n",
    "freq_max = w_s0 + 3 * kappa_s\n",
    "freq_num = 1e3\n",
    "\n",
    "f_p = linspace(freq_min, freq_max , freq_num)\n",
    "\n",
    "alpha_min = .5e6\n",
    "alpha_max = 3*1.3e6\n",
    "alpha_num = 10\n",
    "\n",
    "k = 0\n",
    "cmap = get_cmap(alpha_num)\n",
    "\n",
    "for alpha_in in linspace(alpha_min, alpha_max, alpha_num):\n",
    "\n",
    "    n_array_s = []\n",
    "    n_array_i = []\n",
    "    for q_p in linspace(freq_min, freq_max, freq_num):\n",
    "        x = getAlphas(alpha_in, q_p)\n",
    "        n_array_s.append(x[0])\n",
    "        n_array_i.append(x[1])\n",
    "\n",
    "    buferS = np.array(n_array_s)\n",
    "    buferI = np.array(n_array_i)\n",
    "\n",
    "    col = cmap(k)\n",
    "    plt.plot( (f_p)/6.28e9, buferS, label = str(alpha_in), color = cmap(k) )\n",
    "    plt.plot( (f_p)/6.28e9, buferI, label = str(alpha_in), color = cmap(k) )\n",
    "\n",
    "    k = k+1\n",
    "\n",
    "#plt.xlim(-2,0)\n",
    "#plt.axvline((w_p_real)/kappa_p)\n",
    "plt.xlabel('(f_p )')\n",
    "plt.ylabel('|alpha|')\n",
    "plt.title('')\n",
    "#plt.legend()\n",
    "plt.show()"
   ]
  },
  {
   "cell_type": "markdown",
   "metadata": {},
   "source": [
    "Now - lets try to include them"
   ]
  },
  {
   "cell_type": "code",
   "execution_count": 158,
   "metadata": {
    "collapsed": true
   },
   "outputs": [],
   "source": [
    "def getPumpAlpha_new(alpha_in, w_p): #Problem is here. TOO sensitive to initial guess\n",
    "    def function(x_in):\n",
    "        a,b,c,d = x_in\n",
    "        x = a + 1j*b\n",
    "        y = c + 1j*d\n",
    "        fun_l = 1j * (w_p - w_s0)*x - 0.5*kappa * x - 0.5*kappa * y - 1j*12*K_ssss * np.abs(x)**2 * x + (kappa**.5) * alpha_in - 12j*K_ssii*(x*np.abs(y)**2 + y*y*x.conjugate())\n",
    "        fun_r = 1j * (w_p - w_i0)*y - 0.5*kappa * y - 0.5*kappa * x - 1j*12*K_iiii * np.abs(y)**2 * y + (kappa**.5) * alpha_in - 12j*K_ssii*(y*np.abs(x)**2 + x*x*y.conjugate())\n",
    "        return(fun_l.real, fun_l.imag, fun_r.real, fun_r.imag)\n",
    "    return(scipy.optimize.root(function, (15.,10.,15.,10.)).x)\n",
    "    #return(scipy.optimize.root(function, (100.,100.,100.,100.)).x)\n",
    "\n",
    "def Alphas_new(alpha_in, w_p):\n",
    "    x = getPumpAlpha_new(alpha_in, w_p)\n",
    "    return( abs(x[0] + 1j*x[1]), abs(x[2] + 1j*x[3]) )"
   ]
  },
  {
   "cell_type": "code",
   "execution_count": 159,
   "metadata": {
    "collapsed": false
   },
   "outputs": [],
   "source": [
    "freq_min = w_i0 - 3 * kappa_i\n",
    "freq_max = w_s0 + 3 * kappa_s\n",
    "freq_num = 1e3\n",
    "\n",
    "f_p = linspace(freq_min, freq_max , freq_num)\n",
    "\n",
    "alpha_min = 2e6\n",
    "alpha_max = 5e6\n",
    "alpha_num = 10\n",
    "\n",
    "k = 0\n",
    "cmap = get_cmap(alpha_num)\n",
    "\n",
    "for alpha_in in linspace(alpha_min, alpha_max, alpha_num):\n",
    "\n",
    "    n_array_s = []\n",
    "    n_array_i = []\n",
    "    for q_p in linspace(freq_min, freq_max, freq_num):\n",
    "        x = Alphas_new(alpha_in, q_p)\n",
    "        n_array_s.append(x[0])\n",
    "        n_array_i.append(x[1])\n",
    "\n",
    "    buferS = np.array(n_array_s)\n",
    "    buferI = np.array(n_array_i)\n",
    "\n",
    "    col = cmap(k)\n",
    "    plt.plot( (f_p - w_mid)/kappa, buferS, label = str(alpha_in), color = cmap(k) )\n",
    "    plt.plot( (f_p - w_mid)/kappa, buferI, label = str(alpha_in), color = cmap(k) )\n",
    "\n",
    "    k = k+1\n",
    "\n",
    "#plt.xlim(-2,0)\n",
    "#plt.axvline((w_p_real)/kappa_p)\n",
    "plt.xlabel('(f_p )')\n",
    "plt.ylabel('|alpha|')\n",
    "plt.title('')\n",
    "#plt.legend()\n",
    "plt.show()"
   ]
  },
  {
   "cell_type": "markdown",
   "metadata": {},
   "source": [
    "## Gain"
   ]
  },
  {
   "cell_type": "code",
   "execution_count": 160,
   "metadata": {
    "collapsed": false
   },
   "outputs": [],
   "source": [
    "# phase(alpha) = 0\n",
    "kappa = kappa_s\n",
    "kappa_i = kappa_s\n",
    "\n",
    "def S(w, alphas, w_p):#vetor - br(w), br^+(w_p - w), bl(w), bl+(w_p - w)\n",
    "    alpha_l, alpha_r = alphas\n",
    "    M = np.zeros((4,4),dtype=complex)\n",
    "    M[0,0] = 1j*(w - w_s0) - 0.5*kappa_s - 1j * (24 * alpha_r**2 *K_ssss  + 12*K_ssii * alpha_l**2 )\n",
    "    M[0,1] = -1j*( 12* K_ssss*alpha_r**2 + 12*K_ssii * alpha_l**2 )\n",
    "    M[0,2] = -1j*( 12* K_ssii* 3*(alpha_r*alpha_l)  ) - kappa/2.\n",
    "    M[0,3] = -1j * ( 12*K_ssii * alpha_r*alpha_l  )\n",
    "    \n",
    "    M[1,0] = M[0,1].conjugate()\n",
    "    M[1,1] = (1j*(2*w_p - w - w_s0) - 0.5*kappa_s - 1j * (24 * alpha_r**2 *K_ssss  + 12*K_ssii * alpha_l**2 )).conjugate()\n",
    "    M[1,2] = M[0,3].conjugate()\n",
    "    M[1,3] = M[0,2].conjugate()\n",
    "#     M[1,0] = 1j * (U_l * alpha_l.conjugate()**2)\n",
    "#     M[1,1] = -0.5*kappa - 1j*( 2*w_p - w - w_l - 2.*U_l*alpha_l.conjugate()**2 )\n",
    "#     M[1,3] = 1j*J\n",
    "    \n",
    "    \n",
    "    M[2,0] = -1j*( 12* K_ssii* 3*(alpha_l*alpha_r) ) - kappa/2.\n",
    "    M[2,1] = -1j * ( 12*K_ssii * alpha_r*alpha_l  )\n",
    "    M[2,2] = 1j*(w - w_i0) - 0.5*kappa_i - 1j * (24 * alpha_l**2 *K_iiii  + 12*K_ssii * alpha_r**2 )\n",
    "    M[2,3] = -1j*( 12* K_iiii*alpha_l**2 + 12*K_ssii * alpha_r**2 )\n",
    "    \n",
    "    M[3,0] = M[2,1].conjugate()\n",
    "    M[3,1] = M[2,0].conjugate()\n",
    "    M[3,2] = M[2,3].conjugate()\n",
    "    M[3,3] = (1j*(2*w_p - w - w_i0) - 0.5*kappa - 1j * (24 * alpha_l**2 *K_iiii + 12*K_ssii * alpha_r**2 )).conjugate()\n",
    "    \n",
    "    return M\n",
    "\n",
    "def Gains(w, alpha_in, w_p):\n",
    "    g_s = []\n",
    "    g_i = []\n",
    "    #alphas = getAlphas(alpha_in,w_p)\n",
    "    alphas = Alphas_new(alpha_in,w_p)\n",
    "    for k in range(len(w)):\n",
    "        f = w[k]\n",
    "        M = S(f, alphas, w_p)\n",
    "        #b = np.zeros(4, dtype=complex)\n",
    "        b_in = np.array([1. + 0j,0.,1.,0.])\n",
    "        b_in_i = np.array([0. + 0j,1.,0.,1.])\n",
    "        \n",
    "        b_s = np.dot(np.linalg.inv(M), b_in)\n",
    "        b_i = np.dot(np.linalg.inv(M), b_in_i)\n",
    "        g_s.append(  (-kappa_s*b_s[0] - kappa_i * b_s[2] - 1. + 0j))#-kappa!!\n",
    "        g_i.append( -kappa_s*b_i[0] - kappa_i*b_i[2])#-kappa!!!!\n",
    "    return(g_s, g_i)#!!!!\n",
    "\n",
    "def Gain_sig_dB(w, alpha_in, w_p):\n",
    "    return(20 * np.log10(np.abs(Gains(w, alpha_in, w_p)[0])))\n",
    "    #return((Gains(w, alpha_in, w_p)[0]))\n",
    "\n",
    "def Gain_idl_dB(w, alpha_in, w_p):\n",
    "    return(20 * np.log10(np.abs(Gains(w, alpha_in, w_p)[1])))"
   ]
  },
  {
   "cell_type": "code",
   "execution_count": 188,
   "metadata": {
    "collapsed": false
   },
   "outputs": [],
   "source": [
    "midFreq = (w_s0 + w_i0)/2\n",
    "\n",
    "freq_min = midFreq - 2*kappa#w_l - 2*kappa\n",
    "freq_max = midFreq + .1*kappa#w_r + 2*kappa\n",
    "freq_num = 3e1\n",
    "\n",
    "alpha_min = alpha_min\n",
    "alpha_max = alpha_max\n",
    "alpha_num = 1e1\n",
    "\n",
    "w = linspace(w_i0 - 10*kappa, w_s0 + 10*kappa, 5e3)\n",
    "\n",
    "gains = []\n",
    "\n",
    "k = 0\n",
    "pump_powers = linspace(alpha_min,alpha_max,alpha_num)\n",
    "pump_freqs = linspace(freq_min, freq_max, freq_num)\n",
    "\n",
    "\n",
    "# for alpha_in in linspace(alpha_min,alpha_max,alpha_num):\n",
    "#     gains.append([])\n",
    "#     for w_p in linspace(freq_min, freq_max, freq_num):\n",
    "#         gains[k].append(np.max(Gain_sig_dB(w,alpha_in,w_p)))\n",
    "#     k = k+1\n",
    "\n",
    "alpha_in = .85*alpha_max\n",
    "\n",
    "for w_p in linspace(freq_min, freq_max, freq_num):\n",
    "    gains.append((Gain_sig_dB(w,alpha_in,w_p)))"
   ]
  },
  {
   "cell_type": "code",
   "execution_count": 189,
   "metadata": {
    "collapsed": false
   },
   "outputs": [],
   "source": [
    "#plt.pcolor((pump_freqs - midFreq)/kappa, pump_powers, np.array(gains))\n",
    "plt.pcolor( w/6.28e9,(pump_freqs - midFreq)/kappa, np.array(gains))\n",
    "plt.colorbar()\n",
    "\n",
    "plt.show()"
   ]
  },
  {
   "cell_type": "markdown",
   "metadata": {},
   "source": [
    "power sweep"
   ]
  },
  {
   "cell_type": "code",
   "execution_count": 40,
   "metadata": {
    "collapsed": false
   },
   "outputs": [],
   "source": [
    "w_p = midFreq - 0.2*kappa\n",
    "gains = []\n",
    "for alpha_in in linspace(alpha_max,5*alpha_max,alpha_num):\n",
    "    gains.append((Gain_sig_dB(w,alpha_in,w_p)))"
   ]
  },
  {
   "cell_type": "code",
   "execution_count": 41,
   "metadata": {
    "collapsed": false
   },
   "outputs": [],
   "source": [
    "#plt.pcolor((pump_freqs - midFreq)/kappa, pump_powers, np.array(gains))\n",
    "plt.pcolor( w/6.28e9,pump_powers /alpha_max, np.array(gains))\n",
    "plt.colorbar()\n",
    "\n",
    "plt.show()"
   ]
  },
  {
   "cell_type": "markdown",
   "metadata": {},
   "source": [
    "single trace"
   ]
  },
  {
   "cell_type": "code",
   "execution_count": 183,
   "metadata": {
    "collapsed": false
   },
   "outputs": [],
   "source": [
    "w = linspace(w_i0 - 5*kappa, w_s0 + 5*kappa,3e4)\n",
    "alpha_in = 1.2* alpha_max\n",
    "midFreq = (w_s0 + w_i0)/2\n",
    "#w = linspace(w_i0 - 5*kappa, w_s0 + 5*kappa, 5e3)\n",
    "w_p = midFreq - .4*kappa\n",
    "#plt.plot(w/6.28e9,10**(1/10.*Gain_sig_dB(w,alpha_in,w_p)) - 10**(1/10.*Gain_idl_dB(w,alpha_in,w_p)))\n",
    "plt.plot((w - midFreq)/kappa,Gain_sig_dB(w,alpha_in,w_p))\n",
    "plt.axvline((w_p - midFreq)/kappa, color='g')\n",
    "plt.axvline((w_i0 - midFreq)/kappa, color='r')\n",
    "plt.axvline((w_s0 - midFreq)/kappa, color='r')\n",
    "plt.show()"
   ]
  },
  {
   "cell_type": "markdown",
   "metadata": {
    "collapsed": true
   },
   "source": [
    "# ABCD matrices for coupling estimation"
   ]
  },
  {
   "cell_type": "code",
   "execution_count": 190,
   "metadata": {
    "collapsed": true
   },
   "outputs": [],
   "source": [
    "#functions\n",
    "\n",
    "def A_J(w):\n",
    "    a = np.zeros((2,2),dtype = complex)\n",
    "    a[0][0] = 1.\n",
    "    a[1][1] = 1.\n",
    "    a[0][1] = 1./(-1j/w/L_J + 1j*w*C_J)\n",
    "    return(a)\n",
    "\n",
    "def A_C(w):\n",
    "    a = np.zeros((2,2),dtype = complex)\n",
    "    a[0][0] = 1.\n",
    "    a[1][1] = 1.\n",
    "    a[1][0] = (1j*w*C_0)\n",
    "    return(a)\n",
    "    \n",
    "def A_C_out(w):\n",
    "    a = np.zeros((2,2),dtype = complex)\n",
    "    a[0][0] = 1.\n",
    "    a[1][1] = 1.\n",
    "    a[0][1] = 1/(1j*w*C_out)\n",
    "    return(a)\n",
    "\n",
    "def A(w):\n",
    "    A_0 = np.dot(A_C(w),A_J(w))\n",
    "    A = A_J(w)\n",
    "    for k in range(N - 1):\n",
    "        A = np.dot(A,A_0)\n",
    "        \n",
    "    A = np.dot(A, A_C_out(w))\n",
    "    return(A)\n",
    "\n",
    "def S(w):#linspace at the input\n",
    "    S = []\n",
    "    for k in range(len(w)):\n",
    "        #print(A(w[k]))\n",
    "        bla = A(w[k])\n",
    "        buf = (bla[0][0] - bla[1][0]*50. + bla[0][1]/50. - bla[1][1])/(bla[0][0] + bla[1][0]*50. + bla[0][1]/50. + bla[1][1])\n",
    "        \n",
    "        S.append(buf)\n",
    "    return(S)"
   ]
  },
  {
   "cell_type": "code",
   "execution_count": 191,
   "metadata": {
    "collapsed": false
   },
   "outputs": [],
   "source": [
    "w_start = 6.28e9 * .5\n",
    "w_stop = 6.28e9 * 25.\n",
    "w_len = 5e4\n",
    "\n",
    "w = linspace(w_start, w_stop, w_len)\n",
    "\n",
    "buf = S(w)\n",
    "buf1 = 20* np.log10(np.abs(buf))"
   ]
  },
  {
   "cell_type": "code",
   "execution_count": 192,
   "metadata": {
    "collapsed": false
   },
   "outputs": [],
   "source": [
    "reals = []\n",
    "imags = []\n",
    "for k in range(len(buf)):\n",
    "    reals.append((buf[k].real))\n",
    "    imags.append((buf[k].imag))\n",
    "    \n",
    "plt.plot(w/6.29e9, reals)\n",
    "plt.plot(w/6.29e9, imags)\n",
    "plt.show()"
   ]
  },
  {
   "cell_type": "code",
   "execution_count": 34,
   "metadata": {
    "collapsed": false
   },
   "outputs": [],
   "source": [
    "phases = []\n",
    "for k in range(len(buf)):\n",
    "    phases.append((phase(buf[k])))\n",
    "    \n",
    "plt.plot(w/6.29e9, (phases))\n",
    "plt.show()"
   ]
  },
  {
   "cell_type": "code",
   "execution_count": 13,
   "metadata": {
    "collapsed": false
   },
   "outputs": [],
   "source": [
    "plt.plot(w/6.29e9, buf1)\n",
    "plt.show()"
   ]
  },
  {
   "cell_type": "code",
   "execution_count": 56,
   "metadata": {
    "collapsed": false
   },
   "outputs": [
    {
     "data": {
      "text/plain": [
       "array([[ 0.2       ,  0.        ],\n",
       "       [ 0.        ,  0.33333333]])"
      ]
     },
     "execution_count": 56,
     "metadata": {},
     "output_type": "execute_result"
    }
   ],
   "source": []
  },
  {
   "cell_type": "code",
   "execution_count": null,
   "metadata": {
    "collapsed": true
   },
   "outputs": [],
   "source": []
  }
 ],
 "metadata": {
  "kernelspec": {
   "display_name": "Python [Root]",
   "language": "python",
   "name": "Python [Root]"
  },
  "language_info": {
   "codemirror_mode": {
    "name": "ipython",
    "version": 3
   },
   "file_extension": ".py",
   "mimetype": "text/x-python",
   "name": "python",
   "nbconvert_exporter": "python",
   "pygments_lexer": "ipython3",
   "version": "3.5.2"
  }
 },
 "nbformat": 4,
 "nbformat_minor": 0
}
