{
 "cells": [
  {
   "cell_type": "code",
   "execution_count": null,
   "metadata": {
    "collapsed": true
   },
   "outputs": [],
   "source": [
    "File for conventional JPA parameters calculation - K,L,C,w_0."
   ]
  },
  {
   "cell_type": "code",
   "execution_count": 1,
   "metadata": {
    "collapsed": false
   },
   "outputs": [],
   "source": [
    "from matplotlib import pyplot as plt\n",
    "from numpy import linspace\n",
    "import numpy as np\n",
    "import scipy\n",
    "import scipy.optimize"
   ]
  },
  {
   "cell_type": "code",
   "execution_count": 5,
   "metadata": {
    "collapsed": false
   },
   "outputs": [
    {
     "name": "stdout",
     "output_type": "stream",
     "text": [
      "(0.2772504570173091, 'C, pF')\n",
      "1.14647781426 L, nH\n",
      "219.633821467 L_J, pH\n",
      "8.9314381151 f_res, GHz\n",
      "-7966470.00009 K\n",
      "19.1572674791 l_j/L, %\n",
      "50.1921250066 Z\n",
      "Q >> 24.4208239938\n",
      "-0.000142031570057\n"
     ]
    }
   ],
   "source": [
    "d = 2.8e-1 #length of resonator, cm\n",
    "l =  4.23574*1e-9 #H/cm\n",
    "#c = 1.04919*1e-12 #F/cm\n",
    "c =  1.68135*1e-12 #F/cm\n",
    "I_0 = 1.5e-6 #A\n",
    "N = 1.\n",
    "pi = 3.14159265359\n",
    "hbar = 1.054e-34\n",
    "\n",
    "fi_0 = 2.07e-15/2/pi\n",
    "E_J = fi_0*I_0 / N\n",
    "L_J = fi_0**2/E_J\n",
    "\n",
    "k_0_0 = 0.5*pi/d\n",
    "k_0 = k_0_0/(1 + L_J/(l*d)) #L_J<<ld\n",
    "\n",
    "C = 0.5*c*d*( 1 + np.sin(2*k_0*d)/(2*k_0*d) )\n",
    "L = 2*l*d/( (k_0*d)**2 * (1 + np.sin(2*k_0*d)/(2*k_0*d)) )  #Seems to be failed. Count it later.\n",
    "\n",
    "w_0 = 1/(L*C)**0.5\n",
    "\n",
    "\n",
    "fi_zpf = (hbar/(2*w_0*C))**0.5\n",
    "K_i = -E_J/(2*hbar)*(fi_zpf*np.cos(k_0*d)/fi_0)**4/N**2 ###N**2 since EJ is modified\n",
    "\n",
    "print (C*1e12, \"C, pF\")\n",
    "print L*1e9, \"L, nH\"\n",
    "print L_J*1e12, \"L_J, pH\"\n",
    "print w_0/6.28e9, \"f_res, GHz\"\n",
    "print K_i, \"K\"\n",
    "print L_J/L*100, 'l_j/L, %'\n",
    "print (l/c)**0.5, 'Z'\n",
    "print 'Q >>', 8*L/L_J/1.71\n",
    "print K_i/w_0"
   ]
  },
  {
   "cell_type": "code",
   "execution_count": 6,
   "metadata": {
    "collapsed": false
   },
   "outputs": [
    {
     "name": "stdout",
     "output_type": "stream",
     "text": [
      "Ck <<  63.6253900606 fF\n",
      "1.80385456786\n"
     ]
    }
   ],
   "source": [
    "buf = 8*L/L_J/1.71\n",
    "print 'Ck << ', (C/50./w_0/buf)**.5 *1e15 , 'fF'\n",
    "print 1/(N * (8*6.28e9)**2 * L_J) * 1e12"
   ]
  },
  {
   "cell_type": "code",
   "execution_count": 11,
   "metadata": {
    "collapsed": false
   },
   "outputs": [
    {
     "name": "stdout",
     "output_type": "stream",
     "text": [
      "kappa =  5.03722963104 MHz\n",
      "Q = 2844.04551904\n",
      "139.462513216\n",
      "P_crit =  -122.422590698\n",
      "P_therm = -107.447688095\n"
     ]
    }
   ],
   "source": [
    "Ck = 8e-15\n",
    "kappa = w_0**2*Ck**2* 50/(C+Ck)\n",
    "gamma = .2 * kappa\n",
    "Q = w_0/(gamma + kappa)*2\n",
    "print 'kappa = ', kappa/6.28e6, 'MHz'\n",
    "print 'Q =',Q\n",
    "print Q/(8*L/L_J/1.71)\n",
    "print 'P_crit = ', 10*np.log10( 4*1e3* hbar*w_0*(gamma + kappa)**3/ kappa/ np.abs(K_i)/27**.5 )\n",
    "print 'P_therm =', 10*np.log10(hbar*w_0*kappa) + 30 + 20"
   ]
  },
  {
   "cell_type": "code",
   "execution_count": 27,
   "metadata": {
    "collapsed": false
   },
   "outputs": [
    {
     "name": "stdout",
     "output_type": "stream",
     "text": [
      "44.4522215418\n"
     ]
    }
   ],
   "source": [
    "print (4e-13/50*0.247e-12)**0.5*1e15"
   ]
  },
  {
   "cell_type": "code",
   "execution_count": 267,
   "metadata": {
    "collapsed": false
   },
   "outputs": [
    {
     "name": "stdout",
     "output_type": "stream",
     "text": [
      "8.317584 pF\n"
     ]
    }
   ],
   "source": [
    "h = 2000 #um\n",
    "t = 40\n",
    "b = 100e-6\n",
    "s = 20\n",
    "w = 100\n",
    "epsilon = 3.8\n",
    "N = 2.\n",
    "\n",
    "A1 = 0.614*(h/s)**0.25*(t/h)**0.439\n",
    "A2 = 0.775*t*(2*N - 1)/(t+s) + 0.408\n",
    "\n",
    "print (epsilon + 1)*8.85e-12*b*(2*A1*(N-1) + A2 )*1e15 , 'pF'"
   ]
  },
  {
   "cell_type": "code",
   "execution_count": 111,
   "metadata": {
    "collapsed": false
   },
   "outputs": [
    {
     "name": "stdout",
     "output_type": "stream",
     "text": [
      "8.72773697084e-15\n"
     ]
    }
   ],
   "source": [
    "h = 0.1 #um\n",
    "t = 8.7\n",
    "b = 20e-6\n",
    "s = 5\n",
    "w = 50\n",
    "epsilon = 11.8\n",
    "N = 2\n",
    "\n",
    "A1 = 0.614*(h/s)**0.25*(t/h)**0.439\n",
    "A2 = 0.775*t/(2*N - 1)/(t+s) + 0.408\n",
    "\n",
    "\n",
    "print (epsilon + 1)*8.85e-12*b*(2*A1*(N-1) + A2 )"
   ]
  },
  {
   "cell_type": "code",
   "execution_count": 41,
   "metadata": {
    "collapsed": false
   },
   "outputs": [
    {
     "name": "stdout",
     "output_type": "stream",
     "text": [
      "-103.561000035\n"
     ]
    }
   ],
   "source": [
    "print 10 * np.log10(.5*hbar * w_0 * 1e3  *kappa*100)"
   ]
  },
  {
   "cell_type": "code",
   "execution_count": 78,
   "metadata": {
    "collapsed": false
   },
   "outputs": [
    {
     "name": "stdout",
     "output_type": "stream",
     "text": [
      "1.00456902247e-05\n"
     ]
    }
   ],
   "source": [
    "print hbar*5*6.28e12/fi_0"
   ]
  },
  {
   "cell_type": "code",
   "execution_count": 146,
   "metadata": {
    "collapsed": false
   },
   "outputs": [],
   "source": []
  },
  {
   "cell_type": "code",
   "execution_count": 253,
   "metadata": {
    "collapsed": false
   },
   "outputs": [
    {
     "name": "stdout",
     "output_type": "stream",
     "text": [
      "7.18202219486\n",
      "15.8130203687\n"
     ]
    }
   ],
   "source": [
    "#Fingers\n",
    "epsilon = 11.8 #substrate eps\n",
    "W = 100e-6 #\n",
    "s = 60e-6 #\n",
    "g = 6e-6 #\n",
    "h = 600e-6\n",
    "epsilonEff = (epsilon + 1)/2 + (epsilon - 1)/2*( (1+ 12*h/W)**-0.5 + 0.04*(1 - W/h)**2  )\n",
    "epsilon0 = 8.85e-12\n",
    "p = g/W/4\n",
    "\n",
    "C = 2*epsilon0*epsilonEff*W/3.1415*(p - (1 + p**2)**0.5 + np.log((1 + (1 + p**2)**0.5)/p))\n",
    "\n",
    "print epsilonEff\n",
    "print C *1e15"
   ]
  },
  {
   "cell_type": "code",
   "execution_count": 278,
   "metadata": {
    "collapsed": false
   },
   "outputs": [
    {
     "name": "stdout",
     "output_type": "stream",
     "text": [
      "103.0045184 fF\n"
     ]
    }
   ],
   "source": [
    "#Another empirical formula\n",
    "l = 200\n",
    "s = 5e-6\n",
    "w = 5e-6\n",
    "n = 10\n",
    "epsilon = 11.8\n",
    "C = 3.937e-5*l*(epsilon + 1)*(0.11*(n-3) + 0.252)\n",
    "\n",
    "print C*1e3 , 'fF'"
   ]
  },
  {
   "cell_type": "code",
   "execution_count": 1,
   "metadata": {
    "collapsed": false
   },
   "outputs": [
    {
     "ename": "NameError",
     "evalue": "name 'np' is not defined",
     "output_type": "error",
     "traceback": [
      "\u001b[1;31m---------------------------------------------------------------------------\u001b[0m\n\u001b[1;31mNameError\u001b[0m                                 Traceback (most recent call last)",
      "\u001b[1;32m<ipython-input-1-89a99f05ec23>\u001b[0m in \u001b[0;36m<module>\u001b[1;34m()\u001b[0m\n\u001b[0;32m     12\u001b[0m \u001b[0meta\u001b[0m \u001b[1;33m=\u001b[0m \u001b[1;36m2\u001b[0m\u001b[1;33m*\u001b[0m\u001b[0mw\u001b[0m\u001b[1;33m/\u001b[0m\u001b[0mLambda\u001b[0m\u001b[1;33m\u001b[0m\u001b[0m\n\u001b[0;32m     13\u001b[0m \u001b[0mkE\u001b[0m \u001b[1;33m=\u001b[0m \u001b[0mw\u001b[0m\u001b[1;33m*\u001b[0m\u001b[0meta\u001b[0m\u001b[1;33m**\u001b[0m\u001b[1;36m0.5\u001b[0m\u001b[1;33m/\u001b[0m\u001b[1;33m(\u001b[0m\u001b[1;36m1\u001b[0m\u001b[1;33m+\u001b[0m \u001b[0meta\u001b[0m\u001b[1;33m)\u001b[0m\u001b[1;33m\u001b[0m\u001b[0m\n\u001b[1;32m---> 14\u001b[1;33m \u001b[0mkI\u001b[0m \u001b[1;33m=\u001b[0m \u001b[0mnp\u001b[0m\u001b[1;33m.\u001b[0m\u001b[0msin\u001b[0m\u001b[1;33m(\u001b[0m\u001b[1;36m3.141596\u001b[0m\u001b[1;33m*\u001b[0m\u001b[0meta\u001b[0m\u001b[1;33m/\u001b[0m\u001b[1;36m2\u001b[0m\u001b[1;33m)\u001b[0m\u001b[1;33m\u001b[0m\u001b[0m\n\u001b[0m\u001b[0;32m     15\u001b[0m \u001b[1;33m\u001b[0m\u001b[0m\n\u001b[0;32m     16\u001b[0m \u001b[1;32mdef\u001b[0m \u001b[0mkMod\u001b[0m\u001b[1;33m(\u001b[0m\u001b[0mx\u001b[0m\u001b[1;33m)\u001b[0m\u001b[1;33m:\u001b[0m\u001b[1;33m\u001b[0m\u001b[0m\n",
      "\u001b[1;31mNameError\u001b[0m: name 'np' is not defined"
     ]
    }
   ],
   "source": [
    "#Analitical treatment for finger capacitor. Works.\n",
    "w = 2e-6 #Electrod width\n",
    "l = 4e-6 #Electrode length\n",
    "g = 10e-6 #Space between electrodes\n",
    "n = 2   #number of fingers\n",
    "\n",
    "epsSub = 11.8  #epsilon of substrate\n",
    "eps0 = 8.85e-12\n",
    "\n",
    "\n",
    "Lambda = 2*(w+g)\n",
    "eta = 2*w/Lambda\n",
    "kE = w*eta**0.5/(1+ eta)\n",
    "kI = np.sin(3.141596*eta/2)\n",
    "\n",
    "def kMod(x):\n",
    "    return((1 - x**2)*0.5)\n",
    "\n",
    "def K(x):\n",
    "    return(scipy.special.ellipk(x))\n",
    "\n",
    "CI = eps0* l*(epsSub + 1)* K(kI)/K(kMod(kI))\n",
    "CE = eps0* l*(epsSub + 1)* K(kE)/K(kMod(kE))\n",
    "\n",
    "Ctot = (n-3)*0.5*CI + 2*CI*CE/(CI+CE)\n",
    "\n",
    "print 'C =',Ctot*1e15, 'fF'\n",
    "print (w+g)*n*1e6"
   ]
  },
  {
   "cell_type": "code",
   "execution_count": 24,
   "metadata": {
    "collapsed": false
   },
   "outputs": [
    {
     "name": "stdout",
     "output_type": "stream",
     "text": [
      "0.287787826087\n"
     ]
    }
   ],
   "source": [
    "print hbar * 6 * 6.28e9 / 1.38e-23"
   ]
  },
  {
   "cell_type": "markdown",
   "metadata": {},
   "source": [
    "## "
   ]
  }
 ],
 "metadata": {
  "kernelspec": {
   "display_name": "Python 2",
   "language": "python",
   "name": "python2"
  },
  "language_info": {
   "codemirror_mode": {
    "name": "ipython",
    "version": 2
   },
   "file_extension": ".py",
   "mimetype": "text/x-python",
   "name": "python",
   "nbconvert_exporter": "python",
   "pygments_lexer": "ipython2",
   "version": "2.7.10"
  }
 },
 "nbformat": 4,
 "nbformat_minor": 0
}
