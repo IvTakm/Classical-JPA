{
 "cells": [
  {
   "cell_type": "markdown",
   "metadata": {},
   "source": [
    "Hereby I try to modulate JPA using it's hamiltonian. Damping coeff and Kerr nonlin. coeff required."
   ]
  },
  {
   "cell_type": "code",
   "execution_count": 3,
   "metadata": {
    "collapsed": false
   },
   "outputs": [],
   "source": [
    "from matplotlib import pyplot as plt\n",
    "from numpy import linspace\n",
    "import numpy as np\n",
    "import scipy\n",
    "import scipy.optimize"
   ]
  },
  {
   "cell_type": "code",
   "execution_count": 8,
   "metadata": {
    "collapsed": false
   },
   "outputs": [],
   "source": [
    "#constants defenition\n",
    "w_0 = 5.69396298026 *6.28e9\n",
    "#K = -38278627.2593\n",
    "K = -13841689.8521\n",
    "kappa = 31.46858539 * 6.28e6\n",
    "gamma = .1*kappa\n",
    "#kappa - coupling, gamma - radiation losses."
   ]
  },
  {
   "cell_type": "code",
   "execution_count": 11,
   "metadata": {
    "collapsed": false
   },
   "outputs": [],
   "source": [
    "#Defining pump photon number\n",
    "def delta(w_p):\n",
    "    return((w_p - w_0)/(kappa + gamma))\n",
    "\n",
    "def Alpha_in_mod(x):\n",
    "    return(x*kappa**0.5/(kappa + gamma))\n",
    "def Ksi(x):\n",
    "    return(K*x**2/(kappa + gamma))\n",
    "    #return(K*x**2/2/(kappa + gamma))\n",
    "\n",
    "for alpha_in in linspace(2e4, 3e4, 10):\n",
    "    #alpha_in_mod = alpha_in*kappa**0.5/(kappa + gamma)\n",
    "    ksi = Ksi(Alpha_in_mod(alpha_in))#K*alpha_in_mod**2/(kappa + gamma)\n",
    "\n",
    "    def f(x,w_p):\n",
    "        return( (delta(w_p)**2 + 0.25)*x - 2*delta(w_p)*ksi*x**2 + ksi**2*x**3 - 1 )\n",
    "        #return( (delta(w_p)**2 + 0.25)*x - 2*delta(w_p)*ksi*x**2 + ksi**2*x**3 - 0.5 ) #2baths\n",
    "\n",
    "    n_array = []\n",
    "    for f_p in linspace(w_0 - 4*(gamma+kappa), w_0 + 1*(gamma+kappa), 1000):\n",
    "        n_array.append(scipy.optimize.bisect(lambda x: f(x, f_p), 0,5, xtol=1e-17))\n",
    "\n",
    "    bufer = np.array(n_array)\n",
    "    f_p = linspace(w_0 - 4*(gamma+kappa), w_0 + 1*(gamma+kappa), 1000)\n",
    "\n",
    "    plt.plot(delta(f_p), bufer)\n",
    "\n",
    "\n",
    "#plt.xlim(-2,0)\n",
    "plt.xlabel('delta')\n",
    "plt.ylabel('n')\n",
    "plt.title('Mean pump photon number')\n",
    "plt.show()"
   ]
  },
  {
   "cell_type": "code",
   "execution_count": 12,
   "metadata": {
    "collapsed": false
   },
   "outputs": [
    {
     "name": "stdout",
     "output_type": "stream",
     "text": [
      "1.26168837058\n",
      "1.31251456114\n",
      "1.36900820817\n",
      "1.43262781603\n",
      "1.5055431312\n",
      "1.59122986022\n",
      "1.69590336463\n",
      "1.83292629644\n",
      "2.0451254225\n",
      "3.82682255235\n",
      "3.89750703552\n",
      "3.94005485759\n",
      "3.96716695508\n",
      "3.98430356259\n",
      "3.99438120057\n",
      "3.99916427213\n",
      "3.99981139532\n",
      "3.99712919287\n",
      "3.99170445452\n",
      "3.98397894749\n"
     ]
    }
   ],
   "source": [
    "#Linear signal response\n",
    "#alpha is fond from prev graph\n",
    "alpha = 2.8e4\n",
    "ksi = Ksi(Alpha_in_mod(alpha))\n",
    "#w_p = w_0 - 1.43*kappa\n",
    "#for w_p in linspace(w_0 - 2*(gamma + kappa), w_0 - 0.7*(kappa + gamma), 100):\n",
    "for w_p in linspace(w_0 - 1.0*(gamma + kappa), w_0 -.8*(kappa + gamma), 20):\n",
    "    delt = (w_p - w_0)/(kappa + gamma)\n",
    "    n = scipy.optimize.bisect(lambda x: f(x, w_p), 0,5, xtol=1e-17)\n",
    "    print n\n",
    "\n",
    "    w_real = linspace(-4*kappa,3*kappa,1e5)\n",
    "    w = w_real/(kappa + gamma)\n",
    "    lambda1 = 0.5 + ( (ksi*n)**2 - (delt - 2*ksi*n)**2  + 0*1j)**.5\n",
    "    lambda2 = 0.5 - ( (ksi*n)**2 - (delt - 2*ksi*n)**2  + 0*1j)**.5\n",
    "\n",
    "    g_s = -1 + 0*1j + kappa/(kappa + gamma) * (0.5 + 1j*(delt - 2*ksi*n - w)) / ((1j*w - lambda1)*(1j*w - lambda2))\n",
    "    g_i = kappa/(kappa + gamma)*(-1j*ksi*n) / ((1j*w - lambda1)*(1j*w - lambda2))\n",
    "\n",
    "    plt.plot(w, 20*np.log10(np.abs(g_s)))\n",
    "    #plt.plot(np.abs(g_s)**2 - np.abs(g_i)**2)\n",
    "\n",
    "plt.rc('text', usetex=True)\n",
    "plt.rc('font', family='serif')\n",
    "#plt.xlim(-2, 0)\n",
    "plt.xlabel(r'\\huge $\\frac{w-w_p}{\\kappa + \\gamma}$')\n",
    "plt.ylabel(r'Gain, dB')\n",
    "plt.title(r'\\huge \\textbf{ $\\gamma = 3\\kappa$}')\n",
    "plt.show()"
   ]
  },
  {
   "cell_type": "code",
   "execution_count": 11,
   "metadata": {
    "collapsed": false
   },
   "outputs": [
    {
     "ename": "KeyboardInterrupt",
     "evalue": "",
     "output_type": "error",
     "traceback": [
      "\u001b[1;31m---------------------------------------------------------------------------\u001b[0m\n\u001b[1;31mKeyboardInterrupt\u001b[0m                         Traceback (most recent call last)",
      "\u001b[1;32m<ipython-input-11-0b3be010d275>\u001b[0m in \u001b[0;36m<module>\u001b[1;34m()\u001b[0m\n\u001b[0;32m     32\u001b[0m \u001b[1;33m\u001b[0m\u001b[0m\n\u001b[0;32m     33\u001b[0m         \u001b[0mg_s\u001b[0m \u001b[1;33m=\u001b[0m \u001b[1;33m-\u001b[0m\u001b[1;36m1\u001b[0m \u001b[1;33m+\u001b[0m \u001b[1;36m0\u001b[0m\u001b[1;33m*\u001b[0m\u001b[1;36m1j\u001b[0m \u001b[1;33m+\u001b[0m \u001b[0mkappa\u001b[0m\u001b[1;33m/\u001b[0m\u001b[1;33m(\u001b[0m\u001b[0mkappa\u001b[0m \u001b[1;33m+\u001b[0m \u001b[0mgamma\u001b[0m\u001b[1;33m)\u001b[0m \u001b[1;33m*\u001b[0m \u001b[1;33m(\u001b[0m\u001b[1;36m0.5\u001b[0m \u001b[1;33m+\u001b[0m \u001b[1;36m1j\u001b[0m\u001b[1;33m*\u001b[0m\u001b[1;33m(\u001b[0m\u001b[0mdelt\u001b[0m \u001b[1;33m-\u001b[0m \u001b[1;36m2\u001b[0m\u001b[1;33m*\u001b[0m\u001b[0mksi\u001b[0m\u001b[1;33m*\u001b[0m\u001b[0mn\u001b[0m \u001b[1;33m-\u001b[0m \u001b[0mw\u001b[0m\u001b[1;33m)\u001b[0m\u001b[1;33m)\u001b[0m \u001b[1;33m/\u001b[0m \u001b[1;33m(\u001b[0m\u001b[1;33m(\u001b[0m\u001b[1;36m1j\u001b[0m\u001b[1;33m*\u001b[0m\u001b[0mw\u001b[0m \u001b[1;33m-\u001b[0m \u001b[0mlambda1\u001b[0m\u001b[1;33m)\u001b[0m\u001b[1;33m*\u001b[0m\u001b[1;33m(\u001b[0m\u001b[1;36m1j\u001b[0m\u001b[1;33m*\u001b[0m\u001b[0mw\u001b[0m \u001b[1;33m-\u001b[0m \u001b[0mlambda2\u001b[0m\u001b[1;33m)\u001b[0m\u001b[1;33m)\u001b[0m\u001b[1;33m\u001b[0m\u001b[0m\n\u001b[1;32m---> 34\u001b[1;33m         \u001b[0mg_i\u001b[0m \u001b[1;33m=\u001b[0m \u001b[0mkappa\u001b[0m\u001b[1;33m/\u001b[0m\u001b[1;33m(\u001b[0m\u001b[0mkappa\u001b[0m \u001b[1;33m+\u001b[0m \u001b[0mgamma\u001b[0m\u001b[1;33m)\u001b[0m\u001b[1;33m*\u001b[0m\u001b[1;33m(\u001b[0m\u001b[1;33m-\u001b[0m\u001b[1;36m1j\u001b[0m\u001b[1;33m*\u001b[0m\u001b[0mksi\u001b[0m\u001b[1;33m*\u001b[0m\u001b[0mn\u001b[0m\u001b[1;33m)\u001b[0m \u001b[1;33m/\u001b[0m \u001b[1;33m(\u001b[0m\u001b[1;33m(\u001b[0m\u001b[1;36m1j\u001b[0m\u001b[1;33m*\u001b[0m\u001b[0mw\u001b[0m \u001b[1;33m-\u001b[0m \u001b[0mlambda1\u001b[0m\u001b[1;33m)\u001b[0m\u001b[1;33m*\u001b[0m\u001b[1;33m(\u001b[0m\u001b[1;36m1j\u001b[0m\u001b[1;33m*\u001b[0m\u001b[0mw\u001b[0m \u001b[1;33m-\u001b[0m \u001b[0mlambda2\u001b[0m\u001b[1;33m)\u001b[0m\u001b[1;33m)\u001b[0m\u001b[1;33m\u001b[0m\u001b[0m\n\u001b[0m\u001b[0;32m     35\u001b[0m         \u001b[0mG_s\u001b[0m\u001b[1;33m[\u001b[0m\u001b[0mk\u001b[0m\u001b[1;33m]\u001b[0m\u001b[1;33m.\u001b[0m\u001b[0mappend\u001b[0m\u001b[1;33m(\u001b[0m\u001b[1;36m20\u001b[0m\u001b[1;33m*\u001b[0m\u001b[0mnp\u001b[0m\u001b[1;33m.\u001b[0m\u001b[0mlog10\u001b[0m\u001b[1;33m(\u001b[0m\u001b[0mnp\u001b[0m\u001b[1;33m.\u001b[0m\u001b[0mmax\u001b[0m\u001b[1;33m(\u001b[0m\u001b[0mnp\u001b[0m\u001b[1;33m.\u001b[0m\u001b[0mabs\u001b[0m\u001b[1;33m(\u001b[0m\u001b[0mg_s\u001b[0m\u001b[1;33m)\u001b[0m\u001b[1;33m)\u001b[0m\u001b[1;33m)\u001b[0m\u001b[1;33m)\u001b[0m\u001b[1;33m\u001b[0m\u001b[0m\n\u001b[0;32m     36\u001b[0m \u001b[1;33m\u001b[0m\u001b[0m\n",
      "\u001b[1;31mKeyboardInterrupt\u001b[0m: "
     ]
    }
   ],
   "source": [
    "#3d gain plot\n",
    "G_s = []\n",
    "\n",
    "w_length = 100\n",
    "alpha_length = 100\n",
    "\n",
    "alpha_start = 2e5\n",
    "alpha_stop = 3e5\n",
    "\n",
    "alpha_plot_arr = linspace(alpha_start,alpha_stop, alpha_length)\n",
    "w_plot_arr = linspace(w_0 - 2*(gamma + kappa), w_0, w_length)\n",
    "def alpha_from_number(k):\n",
    "    return(alpha_start + (alpha_stop - alpha_start)*k/alpha_length)\n",
    "\n",
    "def w_p_from_number(l):\n",
    "    return(w_0 - 2*(kappa + gamma) + l*2*(gamma + kappa)/w_length)\n",
    "\n",
    "for k in range(alpha_length):\n",
    "    G_s.append([])\n",
    "    for l in range(w_length):\n",
    "        \n",
    "        alpha = alpha_from_number(k)\n",
    "        w_p = w_p_from_number(l)\n",
    "        ksi = Ksi(Alpha_in_mod(alpha))\n",
    "        delt = (w_p - w_0)/(kappa + gamma)\n",
    "        n = scipy.optimize.bisect(lambda x: f(x, w_p), 0,5, xtol=1e-17)\n",
    "\n",
    "        w_real = linspace(-10e6,10e6,1e5)\n",
    "        w = w_real/(kappa + gamma)\n",
    "        lambda1 = 0.5 + ( (ksi*n)**2 - (delt - 2*ksi*n)**2  + 0*1j)**.5\n",
    "        lambda2 = 0.5 - ( (ksi*n)**2 - (delt - 2*ksi*n)**2  + 0*1j)**.5\n",
    "\n",
    "        g_s = -1 + 0*1j + kappa/(kappa + gamma) * (0.5 + 1j*(delt - 2*ksi*n - w)) / ((1j*w - lambda1)*(1j*w - lambda2))\n",
    "        g_i = kappa/(kappa + gamma)*(-1j*ksi*n) / ((1j*w - lambda1)*(1j*w - lambda2))\n",
    "        G_s[k].append(20*np.log10(np.max(np.abs(g_s))))\n",
    "\n",
    "     \n",
    "plt.contourf((w_plot_arr - w_0)/(kappa + gamma),alpha_plot_arr, G_s, 100, alpha=0.75 )\n",
    "plt.colorbar()\n",
    "\n",
    "plt.ylabel('alpha')\n",
    "plt.xlabel('(w_p - w_0)/(kappa + gamma)')\n",
    "plt.title('Gain')\n",
    "plt.show()\n",
    "print np.max(G_s)\n",
    "#print G_s"
   ]
  },
  {
   "cell_type": "code",
   "execution_count": 5,
   "metadata": {
    "collapsed": false
   },
   "outputs": [
    {
     "name": "stdout",
     "output_type": "stream",
     "text": [
      "-116.944554678\n"
     ]
    }
   ],
   "source": [
    " print 10*np.log10(w_0*1e-34*kappa/2) +30"
   ]
  },
  {
   "cell_type": "code",
   "execution_count": 31,
   "metadata": {
    "collapsed": false
   },
   "outputs": [
    {
     "name": "stdout",
     "output_type": "stream",
     "text": [
      "6.283192\n"
     ]
    }
   ],
   "source": [
    "print 2*3.141596/4*2**2"
   ]
  },
  {
   "cell_type": "code",
   "execution_count": 7,
   "metadata": {
    "collapsed": false
   },
   "outputs": [
    {
     "name": "stdout",
     "output_type": "stream",
     "text": [
      "12.7388535032\n"
     ]
    }
   ],
   "source": [
    "print 2*1e-23*4/6.28e10/1e-34"
   ]
  },
  {
   "cell_type": "code",
   "execution_count": 23,
   "metadata": {
    "collapsed": false
   },
   "outputs": [
    {
     "name": "stdout",
     "output_type": "stream",
     "text": [
      "-94.299220275\n"
     ]
    }
   ],
   "source": [
    "print 10*np.log10(   Alpha_in_mod(3e5)**2 * kappa*1e-34 *w_0) + 30"
   ]
  },
  {
   "cell_type": "code",
   "execution_count": 1,
   "metadata": {
    "collapsed": false
   },
   "outputs": [
    {
     "name": "stdout",
     "output_type": "stream",
     "text": [
      "1.099525\n",
      "6.908315575\n"
     ]
    }
   ],
   "source": [
    "jc = 3.1415*1.4/4 #Ic from AB formula\n",
    "d = 2 #JJ diameter\n",
    "print jc\n",
    "print 2*jc*3.1415*d**2/4"
   ]
  },
  {
   "cell_type": "code",
   "execution_count": 33,
   "metadata": {
    "collapsed": false
   },
   "outputs": [
    {
     "name": "stdout",
     "output_type": "stream",
     "text": [
      "0.00276906666667 pF/um**2\n",
      "5.233536\n",
      "45.5714836011\n"
     ]
    }
   ],
   "source": [
    "c = (0.88 * 8.85e-12 * 32 * 1e-12 /90e-9)\n",
    "print  c * 1e12, 'pF/um**2'\n",
    "print c * 1e12 * 45*42\n",
    "print 5.3/c/42/1e12"
   ]
  },
  {
   "cell_type": "code",
   "execution_count": 11,
   "metadata": {
    "collapsed": false
   },
   "outputs": [
    {
     "name": "stdout",
     "output_type": "stream",
     "text": [
      "3.45\n"
     ]
    }
   ],
   "source": [
    "print 6.9/2"
   ]
  },
  {
   "cell_type": "code",
   "execution_count": 3,
   "metadata": {
    "collapsed": false
   },
   "outputs": [
    {
     "name": "stdout",
     "output_type": "stream",
     "text": [
      "20.56032\n"
     ]
    }
   ],
   "source": [
    "c = (0.88 * 8.85e-12 * 4 * 1e-12 /300e-9)\n",
    "#print  c * 1e12, 'pF/um**2'\n",
    "print c * 1e15 * 6*33"
   ]
  },
  {
   "cell_type": "code",
   "execution_count": 37,
   "metadata": {
    "collapsed": false
   },
   "outputs": [
    {
     "name": "stdout",
     "output_type": "stream",
     "text": [
      "0.585511833925\n",
      "6.58070643987\n"
     ]
    }
   ],
   "source": [
    "###Inductance of meander\n",
    "\n",
    "w = 5e-4 #lengths in cm\n",
    "t = 0.4e-4\n",
    "def ind(l): #L in  uH\n",
    "        return(0.02 * l * ( np.log(2*l/(w + t)) + 0.50049 + (w+t)/3l ))\n",
    "\n",
    "\n",
    "a = 5e-4\n",
    "b = 5e-4\n",
    "d = 5e-4\n",
    "h = 50e-4\n",
    "N = 1.5\n",
    "\n",
    "Ind = 2*ind(a) + 2*ind(b) + N*ind(h) + (N+1)*ind(d)\n",
    "print Ind*1e3\n",
    "print (Ind * 1e-6 * 1e-12)**(-0.5) / 6.28e9\n"
   ]
  },
  {
   "cell_type": "code",
   "execution_count": 46,
   "metadata": {
    "collapsed": false
   },
   "outputs": [
    {
     "name": "stdout",
     "output_type": "stream",
     "text": [
      "153.775055079\n"
     ]
    }
   ],
   "source": [
    "a = 60.\n",
    "N = 4.\n",
    "\n",
    "print a/2/np.sin(3.14159/4/N)"
   ]
  },
  {
   "cell_type": "code",
   "execution_count": 48,
   "metadata": {
    "collapsed": false
   },
   "outputs": [
    {
     "name": "stdout",
     "output_type": "stream",
     "text": [
      "0.566412093931\n"
     ]
    }
   ],
   "source": [
    "Z0 = 50.\n",
    "Zl = 20.\n",
    "g = 0.2\n",
    "\n",
    "A = g/(1-g**2)**0.5 * 2 * (Z0*Zl)**0.5/np.abs(Zl - Z0)\n",
    "print (2 - 4/3.14159*np.arccos( A ))"
   ]
  },
  {
   "cell_type": "code",
   "execution_count": 5,
   "metadata": {
    "collapsed": false
   },
   "outputs": [
    {
     "name": "stdout",
     "output_type": "stream",
     "text": [
      "1.099525\n"
     ]
    }
   ],
   "source": [
    "print 3.1415 / 4. * 2.8 / 2"
   ]
  },
  {
   "cell_type": "code",
   "execution_count": 7,
   "metadata": {
    "collapsed": false
   },
   "outputs": [
    {
     "name": "stdout",
     "output_type": "stream",
     "text": [
      "3.45086\n"
     ]
    }
   ],
   "source": [
    "print 1.099 * 3.14"
   ]
  },
  {
   "cell_type": "code",
   "execution_count": null,
   "metadata": {
    "collapsed": false
   },
   "outputs": [],
   "source": []
  }
 ],
 "metadata": {
  "kernelspec": {
   "display_name": "Python 2",
   "language": "python",
   "name": "python2"
  },
  "language_info": {
   "codemirror_mode": {
    "name": "ipython",
    "version": 2
   },
   "file_extension": ".py",
   "mimetype": "text/x-python",
   "name": "python",
   "nbconvert_exporter": "python",
   "pygments_lexer": "ipython2",
   "version": "2.7.10"
  }
 },
 "nbformat": 4,
 "nbformat_minor": 0
}
