{
 "cells": [
  {
   "cell_type": "code",
   "execution_count": 1,
   "metadata": {
    "collapsed": true
   },
   "outputs": [],
   "source": [
    "from numpy import linspace\n",
    "import numpy as np\n",
    "import scipy\n",
    "import scipy.optimize\n",
    "from cmath import *\n",
    "import mpmath\n",
    "\n",
    "import matplotlib.pyplot as plt\n",
    "import matplotlib.cm as cmx\n",
    "import matplotlib.colors as colors\n",
    "\n",
    "def get_cmap(N):\n",
    "    '''Returns a function that maps each index in 0, 1, ... N-1 to a distinct \n",
    "    RGB color.'''\n",
    "    color_norm  = colors.Normalize(vmin=0, vmax=N-1)\n",
    "    scalar_map = cmx.ScalarMappable(norm=color_norm, cmap='hsv') \n",
    "    def map_index_to_rgb_color(index):\n",
    "        return scalar_map.to_rgba(index)\n",
    "    return map_index_to_rgb_color"
   ]
  },
  {
   "cell_type": "markdown",
   "metadata": {},
   "source": [
    "# Paramaters calculation"
   ]
  },
  {
   "cell_type": "code",
   "execution_count": 27,
   "metadata": {
    "collapsed": false
   },
   "outputs": [
    {
     "name": "stdout",
     "output_type": "stream",
     "text": [
      "8.0 uA\n",
      "1.0 pF\n",
      "C_J/C_0 =  200.0\n",
      "Z_res =  90.75388864949856\n",
      "24.813619093041716 GHz\n"
     ]
    }
   ],
   "source": [
    "#Defenition of all matrices/params\n",
    "pi = 3.14159265359\n",
    "hbar = 1.054e-34\n",
    "fi_0 = 2.07e-15/2/np.pi\n",
    "\n",
    "#ALSO - mb add non-Jos inductance?\n",
    "\n",
    "j_c = 0.4e-6#A/um**2\n",
    "c_J = 50e-15#F/um**2\n",
    "area = 20. #um**2\n",
    "\n",
    "C_J = c_J * area#0.4e-12#0.8e-12\n",
    "I_J =  j_c * area#8e-6\n",
    "L_J = fi_0 / I_J\n",
    "E_J = fi_0**2 / L_J\n",
    " \n",
    "N = 300#300#80\n",
    "    \n",
    "C_out = 20e-17\n",
    "C_0 = 5e-15\n",
    "\n",
    "print(I_J*1e6, 'uA')\n",
    "print(C_J*1e12, 'pF')\n",
    "print('C_J/C_0 = ', C_J / C_0)\n",
    "print('Z_res = ', (L_J / C_0)**.5)\n",
    "#print(L_J*1e9, 'nH')\n",
    "print((C_J*L_J)**(-0.5) /6.28e9, 'GHz')\n",
    "################################\n",
    "\n",
    "C = []\n",
    "L = []# ^-1\n",
    "\n",
    "for i in range(N+1):\n",
    "    C.append([])\n",
    "    L.append([])\n",
    "    for j in range(N+1):\n",
    "        if ((i==0)&(j==0)):\n",
    "            #L[i].append(1./L_J) #lambda/2 \n",
    "            #C[i].append(C_J)    #lambda/2\n",
    "            L[i].append(2./L_J)\n",
    "            C[i].append(2*C_J + C_0)\n",
    "            continue\n",
    "        \n",
    "        if ((i==N)&(j==N)):\n",
    "            L[i].append(1./L_J) #correctr\n",
    "            C[i].append(C_J + C_out)\n",
    "            #L[i].append(2./L_J)\n",
    "            continue\n",
    "            \n",
    "        if (i==j):\n",
    "            L[i].append(2./L_J)\n",
    "            C[i].append(2*C_J + C_0)\n",
    "            continue\n",
    "            \n",
    "        if ((j==i+1)or(j==i-1)):\n",
    "            L[i].append(-1./L_J)\n",
    "            C[i].append(-C_J)\n",
    "            continue\n",
    "        L[i].append(0.)\n",
    "        C[i].append(0.)\n",
    "\n",
    "L = np.array(L)\n",
    "C_inv = scipy.linalg.inv(np.array(C))"
   ]
  },
  {
   "cell_type": "code",
   "execution_count": 28,
   "metadata": {
    "collapsed": true
   },
   "outputs": [],
   "source": [
    "C_inv_sqrt= np.mat(scipy.linalg.sqrtm(C_inv))\n",
    "L_m = np.mat(L)\n",
    "\n",
    "A=C_inv_sqrt*L*C_inv_sqrt\n",
    "\n",
    "(freqs,psi) = scipy.linalg.eigh(A,overwrite_a=True)\n",
    "\n",
    "mode = np.sqrt(freqs)\n",
    "nums = linspace(1,N+1, N + 1)\n",
    "\n",
    "plt.plot(nums,(mode)/2/np.pi/1e9,'ro')\n",
    "plt.xlim(0,10)\n",
    "plt.show()"
   ]
  },
  {
   "cell_type": "code",
   "execution_count": null,
   "metadata": {
    "collapsed": true
   },
   "outputs": [],
   "source": [
    "modeNumber = 3\n",
    "\n",
    "def Phi(k):#Correct??????\n",
    "    return(C_inv_sqrt*psi *np.sqrt(hbar)/mode[k]**0.5)\n",
    "\n",
    "\n",
    "psi_norm = C_inv_sqrt* psi \n",
    "\n",
    "psi_arr = np.array(psi.T)\n",
    "\n",
    "\n",
    "phase_norm_luca = np.array((psi_norm * ((2*np.pi)/fi_0)*np.sqrt(hbar)/2/np.array(mode)**0.5).T) #Luca's numbers\n",
    "\n",
    "phase_norm_quanta = np.array((psi_norm * ((2*np.pi)*fi_0)**-1 *np.sqrt(hbar)/2/np.array(mode)**0.5).T)\n",
    "\n",
    "plt.plot(nums,(phase_norm_quanta[modeNumber]),'ro', label = 'F/F_0')\n",
    "#plt.plot(nums,(phase_norm_luca[modeNumber]),'ro', label = 'Luca')\n",
    "\n",
    "plt.legend(loc = 'best')\n",
    "#plt.plot(nums,psi_arr[0],'ro')\n",
    "plt.show()\n",
    "#print freqs[]**0.5/6.28e9"
   ]
  },
  {
   "cell_type": "markdown",
   "metadata": {},
   "source": [
    "## Kerr coeffs"
   ]
  },
  {
   "cell_type": "code",
   "execution_count": null,
   "metadata": {
    "collapsed": true
   },
   "outputs": [],
   "source": [
    "alpha =  - 0.5* hbar/(24. * L_J * fi_0**2) \n",
    "\n",
    "bla = np.array(C_inv_sqrt)\n",
    "\n",
    "def eta_inside(x,j):\n",
    "    A=bla[x+1]\n",
    "    B=bla[x]\n",
    "    C=np.array(psi_arr)[j]\n",
    "    D=np.sqrt(C_J)*(A-B)*C\n",
    "    return np.sum(D)\n",
    "\n",
    "\n",
    "def eta(j,k,l,m):\n",
    "    A=[eta_inside(x,j) * eta_inside(x,k) * eta_inside(x,l) * eta_inside(x,m) for x in range(N)]\n",
    "    return np.sum(A)\n",
    "\n",
    "\n",
    "def beta(j,k,l,m):\n",
    "    return(-np.abs(alpha *eta(j,k,l,m) / np.sqrt(mode[j]) / np.sqrt(mode[k]) / np.sqrt(mode[l])/ np.sqrt(mode[m])/ C_J**2))"
   ]
  },
  {
   "cell_type": "code",
   "execution_count": null,
   "metadata": {
    "collapsed": true
   },
   "outputs": [],
   "source": [
    "idler_mode = 7\n",
    "signal_mode = 8\n",
    "\n",
    "s = signal_mode\n",
    "i = idler_mode\n",
    "\n",
    "K_ssss = beta(s,s,s,s)\n",
    "K_iiii = beta(i,i,i,i)\n",
    "\n",
    "\n",
    "print(K_ssss/1e3, K_iiii/1e3)"
   ]
  },
  {
   "cell_type": "markdown",
   "metadata": {},
   "source": [
    "## ABCD 4 coupling"
   ]
  },
  {
   "cell_type": "code",
   "execution_count": 30,
   "metadata": {
    "collapsed": true
   },
   "outputs": [],
   "source": [
    "#functions\n",
    "\n",
    "def A_J(w):\n",
    "    a = np.zeros((2,2),dtype = complex)\n",
    "    a[0][0] = 1.\n",
    "    a[1][1] = 1.\n",
    "    a[0][1] = 1./(-1j/w/L_J + 1j*w*C_J)\n",
    "    return(a)\n",
    "\n",
    "def A_C(w):\n",
    "    a = np.zeros((2,2),dtype = complex)\n",
    "    a[0][0] = 1.\n",
    "    a[1][1] = 1.\n",
    "    a[1][0] = (1j*w*C_0)\n",
    "    return(a)\n",
    "    \n",
    "def A_C_out(w):\n",
    "    a = np.zeros((2,2),dtype = complex)\n",
    "    a[0][0] = 1.\n",
    "    a[1][1] = 1.\n",
    "    a[0][1] = 1/(1j*w*C_out)\n",
    "    return(a)\n",
    "\n",
    "def A(w):\n",
    "    A_0 = np.dot(A_C(w),A_J(w))\n",
    "    A = A_J(w)\n",
    "    for k in range(N - 1):\n",
    "        A = np.dot(A,A_0)\n",
    "        \n",
    "    A = np.dot(A, A_C_out(w))\n",
    "    return(A)\n",
    "\n",
    "def S(w):#linspace at the input\n",
    "    S = []\n",
    "    for k in range(len(w)):\n",
    "        #print(A(w[k]))\n",
    "        bla = A(w[k])\n",
    "        buf = (bla[0][0] - bla[1][0]*50. + bla[0][1]/50. - bla[1][1])/(bla[0][0] + bla[1][0]*50. + bla[0][1]/50. + bla[1][1])\n",
    "        \n",
    "        S.append(buf)\n",
    "    return(S)"
   ]
  },
  {
   "cell_type": "code",
   "execution_count": 31,
   "metadata": {
    "collapsed": true
   },
   "outputs": [],
   "source": [
    "w_start = 6.28e9 * .5\n",
    "w_stop = 6.28e9 * 20.\n",
    "w_len = 5e4\n",
    "\n",
    "w = linspace(w_start, w_stop, w_len)\n",
    "\n",
    "buf = S(w)\n",
    "buf1 = 20* np.log10(np.abs(buf))"
   ]
  },
  {
   "cell_type": "code",
   "execution_count": 34,
   "metadata": {
    "collapsed": true
   },
   "outputs": [],
   "source": [
    "phases = []\n",
    "for k in range(len(buf)):\n",
    "    phases.append((phase(buf[k])))\n",
    "    \n",
    "plt.plot(w/6.29e9, (phases))\n",
    "plt.show()"
   ]
  },
  {
   "cell_type": "code",
   "execution_count": 33,
   "metadata": {
    "collapsed": true
   },
   "outputs": [],
   "source": [
    "reals = []\n",
    "imags = []\n",
    "for k in range(len(buf)):\n",
    "    reals.append((buf[k].real))\n",
    "    imags.append((buf[k].imag))\n",
    "    \n",
    "plt.plot(w/6.29e9, reals)\n",
    "plt.plot(w/6.29e9, imags)\n",
    "plt.show()"
   ]
  },
  {
   "cell_type": "markdown",
   "metadata": {},
   "source": [
    "# Eichler model"
   ]
  },
  {
   "cell_type": "code",
   "execution_count": 43,
   "metadata": {
    "collapsed": false
   },
   "outputs": [],
   "source": [
    "#parameters\n",
    "z = 2e9*np.pi\n",
    "\n",
    "w_l = 8.6 * 2e9 * np.pi\n",
    "w_r = 8.6 * 2e9 * np.pi\n",
    "\n",
    "kappa = 600*6.28e6#290 * 2e6*np.pi\n",
    "gamma = 0. * 2e6*np.pi\n",
    "J =     .7*kappa\n",
    "\n",
    "U_l = -80e3\n",
    "U_r = U_l"
   ]
  },
  {
   "cell_type": "markdown",
   "metadata": {},
   "source": [
    "## Weak signal regime"
   ]
  },
  {
   "cell_type": "code",
   "execution_count": 45,
   "metadata": {
    "collapsed": false
   },
   "outputs": [],
   "source": [
    "def weakProbe(w):\n",
    "    buf = -1. - 1j* kappa * (w - w_r + 0.5j * gamma) / (J**2 - (w - w_r + 0.5j * gamma) * (0.5j*kappa + w - w_l) )\n",
    "    #return(20* np.log10(np.abs(buf)))\n",
    "    return((buf))\n",
    "\n",
    "w_probe = linspace(6*6.28e9, 10* 6.28e9, 1e5)\n",
    "\n",
    "#plt.plot(w_probe/2e9/np.pi, (np.abs(weakProbe(w_probe))),'r')\n",
    "plt.plot(w_probe/2e9/np.pi, weakProbe(w_probe).real,'r')\n",
    "plt.plot(w_probe/2e9/np.pi, weakProbe(w_probe).imag,'g')\n",
    "plt.axvline(w_l/z)\n",
    "plt.axvline(w_r/z)\n",
    "plt.show()"
   ]
  },
  {
   "cell_type": "markdown",
   "metadata": {},
   "source": [
    "## Pump responce "
   ]
  },
  {
   "cell_type": "code",
   "execution_count": 46,
   "metadata": {
    "collapsed": false
   },
   "outputs": [],
   "source": [
    "def getPumpAlpha(alpha_in, w_p): #Problem is here. TOO sensitive to initial guess\n",
    "    def function(x_in):\n",
    "        a,b,c,d = x_in\n",
    "        x = a + 1j*b\n",
    "        y = c + 1j*d\n",
    "        fun_l = 1j * (w_p - w_l)*x - 0.5*kappa * x  - .5j * J * y - 1j*U_l * np.abs(x)**2 * x + (kappa**.5) * alpha_in\n",
    "        fun_r = 1j * (w_p - w_r)*y - .5j*J*x - 1j*U_r* np.abs(y)**2 * y\n",
    "        return(fun_l.real, fun_l.imag, fun_r.real, fun_r.imag)\n",
    "    return(scipy.optimize.root(function, (15.,10.,15.,10.)).x)\n",
    "\n",
    "def Alphas(alpha_in, w_p):\n",
    "    x = getPumpAlpha(alpha_in, w_p)\n",
    "    return( (x[0] + 1j*x[1]), (x[2] + 1j*x[3]) )"
   ]
  },
  {
   "cell_type": "code",
   "execution_count": 48,
   "metadata": {
    "collapsed": false
   },
   "outputs": [],
   "source": [
    "#When it is bifurcating, solution is a piece of ****.\n",
    "#But I won't go into this regime, so I don't care. Pre-Bifurc seems to be ok.\n",
    "\n",
    "freq_min = w_r - 3*kappa\n",
    "freq_max = w_l + 3*kappa\n",
    "freq_num = 1e3\n",
    "\n",
    "midFreq = (w_l + w_r)/2.\n",
    "\n",
    "alpha_min = 2e6\n",
    "alpha_max = 5e6\n",
    "alpha_num = 5\n",
    "\n",
    "k = 0\n",
    "cmap = get_cmap(alpha_num)\n",
    "\n",
    "for alpha_in in linspace(alpha_min, alpha_max, alpha_num):\n",
    "    left = []\n",
    "    right = []\n",
    "    for f_p in linspace(freq_min, freq_max, freq_num):\n",
    "        x = getPumpAlpha(alpha_in, f_p)\n",
    "        left.append(abs((x[0] + 1j*x[1])))\n",
    "        right.append(abs((x[2] + 1j*x[3])))\n",
    "\n",
    "    bufer = np.array(left)\n",
    "    bufer1 = np.array(right)\n",
    "    f_p = linspace(freq_min, freq_max, freq_num)\n",
    "    #plt.plot( (f_p - midFreq)/kappa, bufer, label = str(alpha_in) )\n",
    "    plt.plot( (f_p - midFreq)/kappa , bufer, label = str(alpha_in), color = cmap(k) )\n",
    "    plt.plot( (f_p - midFreq)/kappa , bufer1, label = str(alpha_in), color = cmap(k), linestyle = ':', markersize=10 )\n",
    "    k = k+1\n",
    "    \n",
    "# plt.axvline((midFreq - .6*kappa)/6.28e9)\n",
    "    \n",
    "plt.show()"
   ]
  },
  {
   "cell_type": "markdown",
   "metadata": {},
   "source": [
    "# Gain"
   ]
  },
  {
   "cell_type": "code",
   "execution_count": 49,
   "metadata": {
    "collapsed": false
   },
   "outputs": [],
   "source": [
    "# phase(alpha) = 0\n",
    "def S(w, alphas, w_p):#vetor - bl(w), bl^+(w_p - w), br(w), br+(w_p - w)\n",
    "    alpha_l, alpha_r = alphas\n",
    "    M = np.zeros((4,4),dtype=complex)\n",
    "    M[0,0] = 1j*(w - w_l - 2.*U_l*abs(alpha_l)**2 + 0j) - 0.5*kappa\n",
    "    M[0,1] = -1j*(0j+U_l * alpha_l**2)\n",
    "    M[0,2] = -1j*J\n",
    "    \n",
    "#     M[1,0] = M[0,1].conjugate()\n",
    "#     M[1,1] = M[0,0].conjugate()\n",
    "#     M[1,3] = M[0,2].conjugate()\n",
    "    M[1,0] = 1j * (U_l * alpha_l.conjugate()**2)\n",
    "    M[1,1] = -0.5*kappa - 1j*( 2*w_p - w - w_l - 2.*U_l*abs(alpha_l)**2 )\n",
    "    M[1,3] = 1j*J\n",
    "    \n",
    "    \n",
    "    M[2,0] = -1j*J\n",
    "    M[2,2] = 1j*(w - w_r - 2*U_r*abs(alpha_r)**2)\n",
    "    M[2,3] = -1j*U_r*alpha_r**2\n",
    "    \n",
    "    M[3,1] = 1j*J\n",
    "    M[3,2] = M[2,3].conjugate()\n",
    "    M[3,3] = -1j*(2*w_p - w - w_r - 2*U_r*abs(alpha_r)**2)\n",
    "    \n",
    "    return M\n",
    "\n",
    "def S_noW(w, alphas, w_p):#vetor - bl(w), bl^+(w_p - w), br(w), br+(w_p - w)\n",
    "    alpha_l, alpha_r = alphas\n",
    "    M = np.zeros((4,4),dtype=complex)\n",
    "    M[0,0] = 1j*( - w_l - 2.*U_l*abs(alpha_l)**2 + 0j) - 0.5*kappa\n",
    "    M[0,1] = -1j*(0j+U_l * alpha_l**2)\n",
    "    M[0,2] = -1j*J\n",
    "    \n",
    "#     M[1,0] = M[0,1].conjugate()\n",
    "#     M[1,1] = M[0,0].conjugate()\n",
    "#     M[1,3] = M[0,2].conjugate()\n",
    "    M[1,0] = 1j * (U_l * alpha_l.conjugate()**2)\n",
    "    M[1,1] = -0.5*kappa - 1j*(  - w_l - 2.*U_l*abs(alpha_l)**2 )\n",
    "    M[1,3] = 1j*J\n",
    "    \n",
    "    \n",
    "    M[2,0] = -1j*J\n",
    "    M[2,2] = 1j*( - w_r - 2*U_r*abs(alpha_r)**2)\n",
    "    M[2,3] = -1j*U_r*alpha_r**2\n",
    "    \n",
    "    M[3,1] = 1j*J\n",
    "    M[3,2] = M[2,3].conjugate()\n",
    "    M[3,3] = -1j*( - w_r - 2*U_r*abs(alpha_r)**2)\n",
    "    \n",
    "    return M\n",
    "\n",
    "def Gains(w, alpha_in, w_p):\n",
    "    g_s = []\n",
    "    g_i = []\n",
    "    alphas = Alphas(alpha_in,w_p)\n",
    "    for k in range(len(w)):\n",
    "        f = w[k]\n",
    "        M = S(f, alphas, w_p)\n",
    "        b = np.zeros(4, dtype=complex)\n",
    "        b_in = np.array([1. + 0j,0.,0.,0.])\n",
    "        b_in_i = np.array([0. + 0j,1.,0.,0.])\n",
    "        \n",
    "        b_s = np.dot(np.linalg.inv(M), b_in)\n",
    "        b_i = np.dot(np.linalg.inv(M), b_in_i)\n",
    "        g_s.append( - kappa*b_s[0] - 1. + 0j)#-kappa!!\n",
    "        g_i.append(- kappa*b_i[0])#-kappa!!!!\n",
    "    return(g_s, g_i)\n",
    "\n",
    "def Gain_sig_dB(w, alpha_in, w_p):\n",
    "    return(20 * np.log10(np.abs(Gains(w, alpha_in, w_p)[0])))\n",
    "\n",
    "def Gain_idl_dB(w, alpha_in, w_p):\n",
    "    return(20 * np.log10(np.abs(Gains(w, alpha_in, w_p)[1])))\n",
    "\n",
    "def Stability(w, alphas, w_p):\n",
    "    M = S_noW(w, alphas, w_p)\n",
    "    (vals,psi) = scipy.linalg.eig(M,overwrite_a=True)\n",
    "    return(vals)"
   ]
  },
  {
   "cell_type": "code",
   "execution_count": 50,
   "metadata": {
    "collapsed": false
   },
   "outputs": [
    {
     "data": {
      "text/plain": [
       "array([ -1.60535401e+09 -4.66992553e+10j,\n",
       "        -2.78645992e+08 -5.38905896e+10j,\n",
       "        -1.60535401e+09 +4.66992553e+10j,  -2.78645992e+08 +5.38905896e+10j])"
      ]
     },
     "execution_count": 50,
     "metadata": {},
     "output_type": "execute_result"
    }
   ],
   "source": [
    "Stability(w_l, Alphas(1e9,midFreq - 2*kappa),midFreq - 2*kappa) #WTF?"
   ]
  },
  {
   "cell_type": "code",
   "execution_count": 53,
   "metadata": {
    "collapsed": false
   },
   "outputs": [],
   "source": [
    "freq_min = midFreq - 2*kappa#w_l - 2*kappa\n",
    "freq_max = midFreq + 1*kappa#w_r + 2*kappa\n",
    "freq_num = 3e1\n",
    "\n",
    "#alpha_min = .6e6\n",
    "#alpha_max = 5e6\n",
    "#alpha_num = 10e0\n",
    "\n",
    "w = linspace(w_l - 5*kappa, w_r + 5*kappa, 1e3)\n",
    "\n",
    "gains = []\n",
    "\n",
    "k = 0\n",
    "pump_powers = linspace(alpha_min,alpha_max,alpha_num)\n",
    "pump_freqs = linspace(freq_min, freq_max, freq_num)\n",
    "\n",
    "# for alpha_in in linspace(alpha_min,alpha_max,alpha_num):\n",
    "#     gains.append([])\n",
    "#     for w_p in linspace(freq_min, freq_max, freq_num):\n",
    "#         gains[k].append(np.max(Gain_sig_dB(w,alpha_in,w_p)))\n",
    "#     k = k+1\n",
    "\n",
    "alpha_in = 1.2*alpha_max#3.2e6\n",
    "\n",
    "for w_p in linspace(freq_min, freq_max, freq_num):\n",
    "    gains.append((Gain_sig_dB(w,alpha_in,w_p)))"
   ]
  },
  {
   "cell_type": "code",
   "execution_count": 54,
   "metadata": {
    "collapsed": false
   },
   "outputs": [],
   "source": [
    "#plt.pcolor((pump_freqs - midFreq)/kappa, pump_powers, np.array(gains))\n",
    "plt.pcolor( w/6.28e9,(pump_freqs - midFreq)/kappa, np.array(gains))\n",
    "plt.colorbar()\n",
    "\n",
    "plt.show()"
   ]
  },
  {
   "cell_type": "code",
   "execution_count": 63,
   "metadata": {
    "collapsed": false
   },
   "outputs": [
    {
     "data": {
      "image/png": "[encoded data removed]",
      "text/plain": [
       "<matplotlib.figure.Figure at 0xd6ec5ff438>"
      ]
     },
     "metadata": {},
     "output_type": "display_data"
    }
   ],
   "source": [
    "alpha_in = 4.3e6\n",
    "w_p = midFreq - .75*kappa\n",
    "\n",
    "w = linspace(w_r - 2*kappa, w_l + 2*kappa, 1e4)\n",
    "plt.plot(w/6.28e9, Gain_sig_dB(w,alpha_in,w_p))\n",
    "plt.plot(w/6.28e9, Gain_idl_dB(w,alpha_in,w_p))\n",
    "plt.axvline(w_p/6.28e9)\n",
    "plt.ylim(0,)\n",
    "#plt.plot(w/6.28e9, Gain_sig_dB(w,5e5,.5*(7.41 + 7.8)*6.28e9))\n",
    "plt.show()"
   ]
  },
  {
   "cell_type": "code",
   "execution_count": 98,
   "metadata": {
    "collapsed": false
   },
   "outputs": [],
   "source": [
    "buf = Gains(w,4e6,midFreq - 0.6*kappa)\n",
    "Diff = abs(np.array(buf[0]))**2 - abs(np.array(buf[1]))**2\n",
    "plt.plot(w,Diff)\n",
    "plt.show()"
   ]
  },
  {
   "cell_type": "code",
   "execution_count": 300,
   "metadata": {
    "collapsed": false
   },
   "outputs": [],
   "source": [
    "N  = 400.\n",
    "n = linspace(1,N, N)\n",
    "\n",
    "plt.plot(n, np.log10(1/(n)),'b', label = 'Lumped-element')\n",
    "plt.plot(n, np.log10(1/(2.*n**2/3./np.pi**4)), 'r', label = 'Distributed')\n",
    "plt.legend(loc ='best')\n",
    "plt.xlabel('Number of SQUIDs')\n",
    "plt.ylabel('log10(K)')\n",
    "plt.show()"
   ]
  },
  {
   "cell_type": "code",
   "execution_count": 28,
   "metadata": {
    "collapsed": false
   },
   "outputs": [
    {
     "data": {
      "text/plain": [
       "array([ 18.21352721,  -3.10058999, -36.53920439,   6.22027189])"
      ]
     },
     "execution_count": 28,
     "metadata": {},
     "output_type": "execute_result"
    }
   ],
   "source": [
    "getPumpAlpha(4e5, midFreq - .62*kappa).x"
   ]
  },
  {
   "cell_type": "code",
   "execution_count": 89,
   "metadata": {
    "collapsed": false
   },
   "outputs": [
    {
     "data": {
      "text/plain": [
       "-0.3855265013739368"
      ]
     },
     "execution_count": 89,
     "metadata": {},
     "output_type": "execute_result"
    }
   ],
   "source": [
    "(4e6)**2 * U_l / kappa**2"
   ]
  },
  {
   "cell_type": "code",
   "execution_count": null,
   "metadata": {
    "collapsed": true
   },
   "outputs": [],
   "source": []
  }
 ],
 "metadata": {
  "anaconda-cloud": {},
  "kernelspec": {
   "display_name": "Python [Root]",
   "language": "python",
   "name": "Python [Root]"
  },
  "language_info": {
   "codemirror_mode": {
    "name": "ipython",
    "version": 3
   },
   "file_extension": ".py",
   "mimetype": "text/x-python",
   "name": "python",
   "nbconvert_exporter": "python",
   "pygments_lexer": "ipython3",
   "version": "3.5.2"
  }
 },
 "nbformat": 4,
 "nbformat_minor": 0
}
