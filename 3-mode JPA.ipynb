{
 "cells": [
  {
   "cell_type": "code",
   "execution_count": 2,
   "metadata": {
    "collapsed": true
   },
   "outputs": [],
   "source": [
    "from matplotlib import pyplot as plt\n",
    "from numpy import linspace\n",
    "import numpy as np\n",
    "import scipy\n",
    "import scipy.optimize\n",
    "from cmath import *"
   ]
  },
  {
   "cell_type": "markdown",
   "metadata": {
    "collapsed": false
   },
   "source": [
    "# Parameters calculation"
   ]
  },
  {
   "cell_type": "code",
   "execution_count": 3,
   "metadata": {
    "collapsed": false
   },
   "outputs": [
    {
     "name": "stdout",
     "output_type": "stream",
     "text": [
      "0.12 nH\n",
      "20.9811415882 GHz\n"
     ]
    }
   ],
   "source": [
    "#Defenition of all matrices/params\n",
    "pi = 3.14159265359\n",
    "hbar = 1.054e-34\n",
    "fi_0 = 2.07e-15/2/np.pi\n",
    "\n",
    "#ALSO - mb add non-Jos inductance?\n",
    "\n",
    "C_J = 0.48e-12#0.8e-12\n",
    "#I_J =  2.7e-6\n",
    "L_J = 0.12e-9#0.03e-9#fi_0 / I_J\n",
    " \n",
    "N = 80#300#80\n",
    "    \n",
    "C_out = 22e-15\n",
    "C_0 = .5e-15\n",
    "\n",
    "\n",
    "print L_J*1e9, 'nH'\n",
    "print (C_J*L_J)**(-0.5) /6.28e9, 'GHz'\n",
    "################################\n",
    "\n",
    "C = []\n",
    "L = []# ^-1\n",
    "\n",
    "for i in range(N+1):\n",
    "    C.append([])\n",
    "    L.append([])\n",
    "    for j in range(N+1):\n",
    "        if ((i==0)&(j==0)):\n",
    "            #L[i].append(1./L_J) #lambda/2 \n",
    "            #C[i].append(C_J)    #lambda/2\n",
    "            L[i].append(2./L_J)\n",
    "            C[i].append(2*C_J + C_0)\n",
    "            continue\n",
    "        \n",
    "        if ((i==N)&(j==N)):\n",
    "            L[i].append(1./L_J) #correctr\n",
    "            C[i].append(C_J + C_out)\n",
    "            #L[i].append(2./L_J)\n",
    "            continue\n",
    "            \n",
    "        if (i==j):\n",
    "            L[i].append(2./L_J)\n",
    "            C[i].append(2*C_J + C_0)\n",
    "            continue\n",
    "            \n",
    "        if ((j==i+1)or(j==i-1)):\n",
    "            L[i].append(-1./L_J)\n",
    "            C[i].append(-C_J)\n",
    "            continue\n",
    "        L[i].append(0.)\n",
    "        C[i].append(0.)\n",
    "\n",
    "L = np.array(L)\n",
    "C_inv = scipy.linalg.inv(np.array(C))\n",
    "\n",
    "c_buf = np.diagonal(C)\n",
    "l_buf = np.diagonal(L)\n",
    "\n",
    "w = []\n",
    "for k in range(N+1):\n",
    "    w.append( (c_buf[k] * l_buf[k])**0.5 )"
   ]
  },
  {
   "cell_type": "markdown",
   "metadata": {
    "collapsed": false
   },
   "source": [
    "# Going from discrete to continious (w/o C_out)"
   ]
  },
  {
   "cell_type": "code",
   "execution_count": 266,
   "metadata": {
    "collapsed": false
   },
   "outputs": [],
   "source": [
    "n = linspace(0, N-1, N)\n",
    "fr = []\n",
    "\n",
    "def ka(n):\n",
    "    return( (n + .5) * pi / N )\n",
    "\n",
    "\n",
    "#def fun(k):\n",
    "#    return( (2*L_J / pi**2 * (0.5*C_0*N**2 /k**2 + 0.5* pi**2*C_J ) )**-0.5)\n",
    "def fun(k):\n",
    "    return ( (L_J * C_J + C_0 * L_J / ka(k)**2)**-0.5 )\n",
    "              \n",
    "plt.plot(n+1, fun(n)/6.28e9, 'ro')\n",
    "fr = fun(n)\n",
    "plt.xlim(0,10)\n",
    "plt.show()"
   ]
  },
  {
   "cell_type": "code",
   "execution_count": null,
   "metadata": {
    "collapsed": true
   },
   "outputs": [],
   "source": [
    "#/TODO\n",
    "#MB include C_out at the end as Eichler did????"
   ]
  },
  {
   "cell_type": "markdown",
   "metadata": {},
   "source": [
    "# Luca's calculations"
   ]
  },
  {
   "cell_type": "code",
   "execution_count": 4,
   "metadata": {
    "collapsed": false
   },
   "outputs": [],
   "source": [
    "C_inv_sqrt= np.mat(scipy.linalg.sqrtm(C_inv))\n",
    "L_m = np.mat(L)\n",
    "\n",
    "A=C_inv_sqrt*L*C_inv_sqrt\n",
    "\n",
    "(freqs,psi) = scipy.linalg.eigh(A,overwrite_a=True)\n",
    "\n",
    "mode = np.sqrt(freqs)\n",
    "nums = linspace(1,N+1, N + 1)\n",
    "\n",
    "plt.plot(nums,(mode)/2/np.pi/1e9,'ro')\n",
    "plt.xlim(0,10)\n",
    "plt.show()"
   ]
  },
  {
   "cell_type": "code",
   "execution_count": 5,
   "metadata": {
    "collapsed": false
   },
   "outputs": [],
   "source": [
    "#Quest - are Luca's calculations correct????\n",
    "#/TODO - check them\n",
    "\n",
    "modeNumber = 0\n",
    "\n",
    "def Phi(k):#Correct??????\n",
    "    return(C_inv_sqrt*psi *np.sqrt(hbar)/mode[k]**0.5)\n",
    "\n",
    "\n",
    "psi_norm = C_inv_sqrt* psi \n",
    "\n",
    "psi_arr = np.array(psi.T)\n",
    "\n",
    "\n",
    "phase_norm_luca = np.array((psi_norm * ((2*np.pi)/fi_0)*np.sqrt(hbar)/2/np.array(mode)**0.5).T) #Luca's numbers\n",
    "\n",
    "phase_norm_quanta = np.array((psi_norm * ((2*np.pi)*fi_0)**-1 *np.sqrt(hbar)/2/np.array(mode)**0.5).T)\n",
    "\n",
    "plt.plot(nums,(phase_norm_quanta[modeNumber]),'go', label = 'F/F_0')\n",
    "plt.plot(nums,(phase_norm_luca[modeNumber]),'ro', label = 'Luca')\n",
    "\n",
    "plt.legend(loc = 'best')\n",
    "#plt.plot(nums,psi_arr[0],'ro')\n",
    "plt.show()\n",
    "#print freqs[]**0.5/6.28e9"
   ]
  },
  {
   "cell_type": "markdown",
   "metadata": {},
   "source": [
    "## Nonlinearity calculation"
   ]
  },
  {
   "cell_type": "code",
   "execution_count": 6,
   "metadata": {
    "collapsed": false
   },
   "outputs": [],
   "source": [
    "alpha =  - 0.5* hbar/(24. * L_J * fi_0**2)\n",
    "\n",
    "bla = np.array(C_inv_sqrt)\n",
    "\n",
    "def eta_inside(x,j):#Care about psi_arr[j][y]\n",
    "    ret = 0.\n",
    "    for y in range(N + 1):\n",
    "        ret = ret + C_J**0.5 * (bla[x+1][y] - bla[x][y])*np.array(psi_arr)[j][y]\n",
    "    return(ret)\n",
    "\n",
    "def eta(j,k,l,m): #Fine, same as Luca had\n",
    "    ret = 0\n",
    "    for x in range(N):\n",
    "        ret = ret + eta_inside(x,j) * eta_inside(x,k) * eta_inside(x,l) * eta_inside(x,m)\n",
    "    return(ret)\n",
    "\n",
    "def beta(j,k,l,m):\n",
    "    return alpha *eta(j,k,l,m) / (mode[j])**0.5 / (mode[k])**0.5 / (mode[l])**0.5/ (mode[m])**0.5 / C_J**2\n"
   ]
  },
  {
   "cell_type": "code",
   "execution_count": 7,
   "metadata": {
    "collapsed": false
   },
   "outputs": [
    {
     "data": {
      "text/plain": [
       "-79566.36705747954"
      ]
     },
     "execution_count": 7,
     "metadata": {},
     "output_type": "execute_result"
    }
   ],
   "source": [
    "beta(0,0,0,0)"
   ]
  },
  {
   "cell_type": "code",
   "execution_count": 12,
   "metadata": {
    "collapsed": false
   },
   "outputs": [],
   "source": [
    "buff = []\n",
    "eta_nums = linspace(0,10,11)\n",
    "for k in range(11):\n",
    "    buff.append(eta(k,k,k,k))\n",
    "plt.plot(eta_nums, buff)\n",
    "plt.show()"
   ]
  },
  {
   "cell_type": "code",
   "execution_count": 312,
   "metadata": {
    "collapsed": false
   },
   "outputs": [],
   "source": [
    "# K_p = 12 * beta(1,1,1,1)\n",
    "# K_ps = 24* beta(1,1,2,2)\n",
    "# K_pi = 24 * beta(1,1,0,0)\n",
    "# K_psi = 24 * beta(1,1,2,0)\n",
    "\n",
    "pump_mode = 3\n",
    "signal_mode = \n",
    "idler_mode = 2\n",
    "\n",
    "K_p = 12 * beta(pump_mode,pump_mode,pump_mode,pump_mode)\n",
    "K_ps = 24* beta(pump_mode,pump_mode,signal_mode,signal_mode)\n",
    "K_pi = 24 * beta(pump_mode,pump_mode,idler_mode,idler_mode)\n",
    "K_psi = 24 * beta(pump_mode,pump_mode,signal_mode,idler_mode)"
   ]
  },
  {
   "cell_type": "code",
   "execution_count": 375,
   "metadata": {
    "collapsed": false
   },
   "outputs": [
    {
     "name": "stdout",
     "output_type": "stream",
     "text": [
      "K/1e6 -0.15 1.2810624129 0.881064411029 0.423410477792\n"
     ]
    }
   ],
   "source": [
    "print 'K/1e6', K_p/1e3, K_ps/1e3, K_pi/1e3, K_psi/1e3"
   ]
  },
  {
   "cell_type": "code",
   "execution_count": 374,
   "metadata": {
    "collapsed": false
   },
   "outputs": [],
   "source": [
    "#Between-mode pumping\n",
    "pump_mode = 2\n",
    "signal_mode = 3\n",
    "idler_mode = 2\n",
    "\n",
    "s = signal_mode\n",
    "i = idler_mode\n",
    "K_psi = 24.* beta(s,s,i,i) + 24.* beta(s,s,s,i) + 12.* beta(s,i,i,i)\n",
    "K_ps = 24.* beta(s,s,s,s) + 48.*beta(s,s,s,i) + 24.*beta(s,s,i,i)\n",
    "K_pi = 24.* beta(i,i,i,i) + 48.*beta(s,i,i,i) + 24.*beta(s,s,i,i)"
   ]
  },
  {
   "cell_type": "markdown",
   "metadata": {},
   "source": [
    "# Amplification calc"
   ]
  },
  {
   "cell_type": "code",
   "execution_count": 376,
   "metadata": {
    "collapsed": false
   },
   "outputs": [
    {
     "name": "stdout",
     "output_type": "stream",
     "text": [
      "503.711437762 503.711437762 451.054461748\n",
      "-0.00015 0.0012810624129 0.000881064411029 0.000423410477792\n",
      "10.0742287552 10.0742287552 12.5636973734 1.12355628796\n"
     ]
    }
   ],
   "source": [
    "#Constants\n",
    "\n",
    "pump_mode = 3\n",
    "signal_mode = 4\n",
    "idler_mode = 3\n",
    "\n",
    "w_s0 = mode[signal_mode]\n",
    "w_i0 = mode[idler_mode]\n",
    "w_p0 = mode[pump_mode]\n",
    "w_p_real = (w_s0 + w_i0)/2.\n",
    "\n",
    "\n",
    "kappa_i = w_i0/20.\n",
    "kappa_p = kappa_i * (w_i0/w_p0)**0.5\n",
    "kappa_s = kappa_i * (w_i0/w_s0)**0.5\n",
    "\n",
    "#K_p =  -0.15e3\n",
    "#K_ps = -0.25e3\n",
    "#K_pi = -0.145e3\n",
    "#K_psi = -0.3e3\n",
    "\n",
    "#-0.416502243384 -0.859543780353 -0.192102150416 0.216179482024 #- for N=300& Luca's params, K = number*1e6\n",
    "\n",
    "print kappa_i/2e6/np.pi, kappa_p/2e6/np.pi, kappa_s/2e6/np.pi\n",
    "print K_p/1e6, K_ps/1e6, K_pi/1e6, K_psi/1e6\n",
    "print w_i0/2e9/np.pi, w_p0/2e9/np.pi, w_s0/2e9/np.pi,w_p_real/w_p0"
   ]
  },
  {
   "cell_type": "code",
   "execution_count": 364,
   "metadata": {
    "collapsed": false
   },
   "outputs": [
    {
     "name": "stdout",
     "output_type": "stream",
     "text": [
      "2.75960979137\n"
     ]
    }
   ],
   "source": [
    "print (w_p_real - w_i0)/kappa_s"
   ]
  },
  {
   "cell_type": "markdown",
   "metadata": {},
   "source": [
    "Pump duffing"
   ]
  },
  {
   "cell_type": "code",
   "execution_count": 391,
   "metadata": {
    "collapsed": false
   },
   "outputs": [],
   "source": [
    "##################################################\n",
    "#Created to check if power is ok                ##\n",
    "##################################################\n",
    "w_p_real = (w_s0 + w_i0)/2\n",
    "\n",
    "#Delete That later\n",
    "\n",
    "w_p0 = w_s0\n",
    "kappa_p = kappa_s\n",
    "K_p = -K_ps\n",
    "\n",
    "\n",
    "\n",
    "##################\n",
    "\n",
    "\n",
    "freq_min = w_p0 - 10 * kappa_p\n",
    "freq_max = w_p0 + 10 * kappa_p\n",
    "freq_num = 1e3\n",
    "\n",
    "\n",
    "def getPumpAlpha(alpha_in, w_p):\n",
    "    def f(x,w_p):\n",
    "        return( (  (w_p - w_p0)**2 + 0.25*kappa_p**2 )*x - 2*(w_p - w_p0)*K_p*x**2 + K_p**2 * x**3 - kappa_p * alpha_in**2 )\n",
    "    \n",
    "    a = (scipy.optimize.bisect(lambda x: f(x, w_p), 0,1e9, xtol=1e-17))**0.5\n",
    "    \n",
    "    return(a)\n",
    "\n",
    "###TODO\n",
    "#check all signs where kappa involved\n",
    "\n",
    "\n",
    "#Rough search\n",
    "#for alpha_log in linspace(-30, 30, 10):\n",
    " #   alpha_in = 10**(0.1*alpha_log)\n",
    "    \n",
    "#Smooth tuning\n",
    "for alpha_in in linspace(.2e8, 1e8, 10):\n",
    "\n",
    "    def f(x,w_p):\n",
    "        return( ( (w_p - w_p0)**2 + 0.25*kappa_p**2 )*x - 2*(w_p - w_p0)*K_p*x**2 + K_p**2 * x**3 - kappa_p * alpha_in**2 )\n",
    "\n",
    "    n_array = []\n",
    "    for f_p in linspace(freq_min, freq_max, freq_num):\n",
    "        n_array.append((scipy.optimize.bisect(lambda x: f(x, f_p), 0,1e9, xtol=1e-17))**0.5)\n",
    "\n",
    "    bufer = np.array(n_array)\n",
    "    f_p = linspace(freq_min - w_p0, freq_max - w_p0, freq_num)\n",
    "\n",
    "    plt.plot( (f_p)/kappa_p, bufer, label = str(alpha_in) )\n",
    "    \n",
    "\n",
    "#plt.xlim(-2,0)\n",
    "plt.axvline((w_p_real - w_p0)/kappa_p)\n",
    "plt.xlabel('(f_p - f_p0)/kappa_p')\n",
    "plt.ylabel('|alpha|')\n",
    "plt.title('')\n",
    "#plt.legend()\n",
    "plt.show()"
   ]
  },
  {
   "cell_type": "code",
   "execution_count": null,
   "metadata": {
    "collapsed": false
   },
   "outputs": [],
   "source": [
    "getPumpAlpha(5e5, w_p0 - 0.7*kappa_p)"
   ]
  },
  {
   "cell_type": "code",
   "execution_count": 381,
   "metadata": {
    "collapsed": false
   },
   "outputs": [],
   "source": [
    "def W(w, w_0, kappa ,K, alpha):\n",
    "    return( 1j * (w - w_0) + 0*1j - 0.5*kappa - 0.5j * K * alpha**2 )\n",
    "\n",
    "def Gs(ws, w_p,alpha):\n",
    "    w_i = 2*w_p - w_s\n",
    "    W_i = W(w_i, w_i0, kappa_i, K_pi, alpha).conjugate()\n",
    "    W_s = W(w_s, w_s0, kappa_s, K_ps, alpha)\n",
    "    \n",
    "    g = -1. - kappa_s * W_i / ( 0*1j + W_s * W_i - 0.25 * K_psi**2 * alpha**4 )\n",
    "    return(20*np.log10(abs(g)))\n",
    "    #return g\n",
    "    \n",
    "def Gi(ws, w_p,alpha):\n",
    "    w_i = 2*w_p - w_s\n",
    "    W_i = W(w_i, w_i0, kappa_i, K_pi, alpha).conjugate()\n",
    "    W_s = W(w_s, w_s0, kappa_s, K_ps, alpha)\n",
    "\n",
    "    i = 0.5j * (kappa_s*kappa_i)**0.5 * K_psi*alpha**2/ (0*1j + W_s * W_i - 0.25 * K_psi**2 * alpha**4 )\n",
    "    return(20*np.log10(abs( i )))\n",
    "    #return i"
   ]
  },
  {
   "cell_type": "code",
   "execution_count": null,
   "metadata": {
    "collapsed": true
   },
   "outputs": [],
   "source": [
    "#TODO\n",
    "#Write down code which will plot both Gain(pump parameters) and duffung curves of pump simultaneously!!!!! "
   ]
  },
  {
   "cell_type": "code",
   "execution_count": 386,
   "metadata": {
    "collapsed": true
   },
   "outputs": [],
   "source": [
    "#Wild guessies\n",
    "\n",
    "#w_p = w_p0 - 0.7*kappa_p\n",
    "w_s = linspace(w_s0 - 15*kappa_s, w_s0 + 15*kappa_s, 1e4)\n",
    "\n",
    "#getPumpAlpha(5e5, w_p0 - 0.7*kappa_p)\n",
    "alpha = 3e3\n",
    "for w_p in linspace(w_p_real - 3*kappa_p, w_p_real + 3* kappa_p, 100):\n",
    "    #for alpha_in in linspace(1e4,4e5,10):\n",
    "        #alpha = 10**alpha_pow\n",
    "        #alpha = getPumpAlpha(alpha_in, w_p)\n",
    "        #print alpha\n",
    "    plt.plot((w_s - w_s0)/kappa_s,Gs(w_s, w_p, alpha))\n",
    "        #plt.plot((w_s - w_s0)/kappa_s, abs(Gs(w_s, w_p, alpha))**2 - abs(Gi(w_s, w_p, alpha))**2)\n",
    "    #plt.ylim(0.,2.)\n",
    "plt.show()"
   ]
  },
  {
   "cell_type": "code",
   "execution_count": 332,
   "metadata": {
    "collapsed": false
   },
   "outputs": [],
   "source": [
    "#Real alpha from pump\n",
    "w_p = w_p0 - 0.7*kappa_p\n",
    "w_s = linspace(w_s0 - 5*kappa_s, w_s0 + 5*kappa_s, 1e4)\n",
    "\n",
    "#getPumpAlpha(5e5, w_p0 - 0.7*kappa_p)\n",
    "\n",
    "for w_p in linspace(w_p0 - 3*kappa_p, w_p0 + 1* kappa_p, 30):\n",
    "    for alpha_in in linspace(1e8,2e8,30):\n",
    "        #alpha = 10**alpha_pow\n",
    "        alpha = getPumpAlpha(alpha_in, w_p)\n",
    "        #print alpha\n",
    "        plt.plot((w_s - w_s0)/kappa_s,Gs(w_s, w_p, alpha))\n",
    "        #plt.plot((w_s - w_s0)/kappa_s, abs(Gs(w_s, w_p, alpha))**2 - abs(Gi(w_s, w_p, alpha))**2)\n",
    "    #plt.ylim(0.,2.)\n",
    "plt.show()"
   ]
  },
  {
   "cell_type": "code",
   "execution_count": null,
   "metadata": {
    "collapsed": false
   },
   "outputs": [],
   "source": [
    "#Check\n",
    "def PumpShifter(alpha):\n",
    "    return((w_s0 + w_i0 + 0.5 * alpha**2 * (K_ps + K_pi))/2. )\n",
    "\n",
    "def PumpFreqShift(alpha):\n",
    "    return(w_p0 + K_p*alpha**2)\n",
    "\n",
    "alpha = linspace(1e0, 1e2, 5e1)\n",
    "plt.plot(alpha,(PumpShifter(alpha) - PumpFreqShift(0.)) /kappa_p, 'g', label = 'RealPump')\n",
    "plt.plot(alpha,(PumpFreqShift(alpha) - PumpFreqShift(0.)) /kappa_p, 'r', label = 'Pump Resonant Freq')\n",
    "plt.legend(loc = 3)\n",
    "plt.xlabel('alpha')\n",
    "plt.ylabel( '(Freq - Freeq_real0) / kappa_p')\n",
    "plt.axhline(-1.)\n",
    "plt.show()"
   ]
  },
  {
   "cell_type": "code",
   "execution_count": null,
   "metadata": {
    "collapsed": false
   },
   "outputs": [],
   "source": [
    "a = [[1,2],[3,4]]\n",
    "b = [[2,2], [0,0]]\n",
    "np.dot(a,b)"
   ]
  },
  {
   "cell_type": "markdown",
   "metadata": {},
   "source": [
    "# Pumping between resonancies"
   ]
  },
  {
   "cell_type": "code",
   "execution_count": 379,
   "metadata": {
    "collapsed": false
   },
   "outputs": [],
   "source": [
    "alpha_in = 1e5\n",
    "\n",
    "w = linspace(3* 6.28e9, 13* 6.28e9,1e5)\n",
    "w_r1 = 10* 6.28e9\n",
    "w_r2 = 12 * 6.28e9\n",
    "\n",
    "kappa_1 = 150e6* 6.28\n",
    "kappa_2 = 100e6* 6.28\n",
    "\n",
    "\n",
    "def responce(w,w_r, kappa):\n",
    "    return(1* kappa**0.5 / ( 0.5 * kappa + 1j*(-w + w_r) ))\n",
    "\n",
    "plt.plot(w/6.28e9, 20* np.log10(abs(responce(w, w_r1, kappa_1))))\n",
    "plt.plot(w/6.28e9, 20* np.log10(abs(responce(w, w_r2, kappa_2))))\n",
    "plt.axvline((w_r1 + w_r2)/2/6.28e9)\n",
    "plt.ylabel('|alpha/alpha_in|')\n",
    "plt.show()"
   ]
  },
  {
   "cell_type": "code",
   "execution_count": null,
   "metadata": {
    "collapsed": true
   },
   "outputs": [],
   "source": []
  }
 ],
 "metadata": {
  "kernelspec": {
   "display_name": "Python 2",
   "language": "python",
   "name": "python2"
  },
  "language_info": {
   "codemirror_mode": {
    "name": "ipython",
    "version": 2
   },
   "file_extension": ".py",
   "mimetype": "text/x-python",
   "name": "python",
   "nbconvert_exporter": "python",
   "pygments_lexer": "ipython2",
   "version": "2.7.10"
  }
 },
 "nbformat": 4,
 "nbformat_minor": 0
}
