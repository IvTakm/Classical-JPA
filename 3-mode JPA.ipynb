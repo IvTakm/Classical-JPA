{
 "cells": [
  {
   "cell_type": "code",
   "execution_count": 1,
   "metadata": {
    "collapsed": true
   },
   "outputs": [],
   "source": [
    "from matplotlib import pyplot as plt\n",
    "from numpy import linspace\n",
    "import numpy as np\n",
    "import scipy\n",
    "import scipy.optimize\n",
    "from cmath import *"
   ]
  },
  {
   "cell_type": "markdown",
   "metadata": {
    "collapsed": false
   },
   "source": [
    "# Parameters calculation"
   ]
  },
  {
   "cell_type": "code",
   "execution_count": 2,
   "metadata": {
    "collapsed": false
   },
   "outputs": [
    {
     "name": "stdout",
     "output_type": "stream",
     "text": [
      "0.126711820077 nH\n",
      "22.6516315177 GHz\n"
     ]
    }
   ],
   "source": [
    "#Defenition of all matrices/params\n",
    "pi = 3.14159265359\n",
    "hbar = 1.054e-34\n",
    "fi_0 = 2.07e-15/2/pi\n",
    "\n",
    "C_J = 0.39e-12\n",
    "I_J =  2.6e-6\n",
    "L_J = fi_0 / I_J\n",
    "\n",
    "print L_J*1e9, 'nH'\n",
    "print (C_J*L_J)**(-0.5) /6.28e9, 'GHz' \n",
    "\n",
    "C_out = 1e-17\n",
    "C_0 = .41e-15\n",
    "\n",
    "N = 80\n",
    "################################\n",
    "\n",
    "C = []# ^-1\n",
    "L = []# ^-1\n",
    "\n",
    "for i in range(N+1):#!!!!!care - goes from 0 to N???\n",
    "    C.append([])\n",
    "    L.append([])\n",
    "    for j in range(N+1):\n",
    "        if ((i==0)&(j==0)):\n",
    "            #L[i].append(1./L_J)\n",
    "            #C[i].append(C_J)\n",
    "            L[i].append(2./L_J)\n",
    "            C[i].append(2*C_J + C_0)\n",
    "            continue\n",
    "        \n",
    "        if ((i==N)&(j==N)):\n",
    "            L[i].append(1./L_J)\n",
    "            C[i].append(C_J + C_out)\n",
    "            continue\n",
    "            \n",
    "        if (i==j):\n",
    "            L[i].append(2./L_J)\n",
    "            C[i].append(2*C_J + C_0)\n",
    "            continue\n",
    "            \n",
    "        if ((j==i+1)or(j==i-1)):\n",
    "            L[i].append(-1./L_J)\n",
    "            C[i].append(-C_J)\n",
    "            continue\n",
    "        L[i].append(0.)\n",
    "        C[i].append(0.)\n",
    "\n",
    "C_test = np.array(C)\n",
    "C = np.linalg.inv(C)\n",
    "\n",
    "c_buf = np.diagonal(C)\n",
    "l_buf = np.diagonal(L)\n",
    "\n",
    "w = []\n",
    "for k in range(N+1):\n",
    "    w.append( (c_buf[k] * l_buf[k])**0.5 )"
   ]
  },
  {
   "cell_type": "code",
   "execution_count": null,
   "metadata": {
    "collapsed": false
   },
   "outputs": [],
   "source": []
  },
  {
   "cell_type": "code",
   "execution_count": 89,
   "metadata": {
    "collapsed": false
   },
   "outputs": [],
   "source": [
    "#Fast check\n",
    "n = linspace(1, N, N)\n",
    "fr = []\n",
    "def fun(k):\n",
    "    return( (2*L_J / pi**2 * (0.5*C_0*N**2 /k**2 + 0.5* pi**2*C_J ) )**-0.5)\n",
    "\n",
    "              \n",
    "plt.plot(n, fun(n)/6.28e9, 'ro')\n",
    "fr = fun(n)\n",
    "plt.show()"
   ]
  },
  {
   "cell_type": "code",
   "execution_count": 90,
   "metadata": {
    "collapsed": false
   },
   "outputs": [
    {
     "name": "stdout",
     "output_type": "stream",
     "text": [
      "17.4672273367 20.9376166084 21.8396017432\n",
      "0.25990892208\n"
     ]
    }
   ],
   "source": [
    "print fr[0]/6.28e9, fr[1]/6.28e9, fr[2]/6.28e9\n",
    "print (fr[2] - fr[1])/(fr[1] - fr[0])"
   ]
  },
  {
   "cell_type": "markdown",
   "metadata": {},
   "source": [
    "# Luca's calculations"
   ]
  },
  {
   "cell_type": "code",
   "execution_count": 88,
   "metadata": {
    "collapsed": false
   },
   "outputs": [],
   "source": [
    "bla  = scipy.linalg.fractional_matrix_power(C_test,-0.5)\n",
    "\n",
    "(freqs,vs) = np.linalg.eigh(np.dot(bla,np.dot(L,bla)))\n",
    "                            \n",
    "nums = linspace(0,N, N + 1)\n",
    "plt.plot(nums,np.sqrt(freqs)/6.28e9,'ro')\n",
    "plt.xlim(0,10)\n",
    "plt.show()"
   ]
  },
  {
   "cell_type": "code",
   "execution_count": 87,
   "metadata": {
    "collapsed": false
   },
   "outputs": [
    {
     "name": "stdout",
     "output_type": "stream",
     "text": [
      "22.6486543136\n"
     ]
    }
   ],
   "source": [
    "#plt.plot(nums,(vs[79]),'ro')\n",
    "#plt.show()\n",
    "print freqs[]**0.5/6.28e9"
   ]
  },
  {
   "cell_type": "markdown",
   "metadata": {},
   "source": [
    "## Bogolubov diagonalization"
   ]
  },
  {
   "cell_type": "code",
   "execution_count": 96,
   "metadata": {
    "collapsed": false
   },
   "outputs": [],
   "source": [
    "# C_dia = []\n",
    "# L_dia = []\n",
    "# C_offDia = []\n",
    "# L_offDia = []\n",
    "# for i in range(N+1):\n",
    "#     C_dia.append([])\n",
    "#     L_dia.append([])\n",
    "#     for j in range(N+1):\n",
    "#         if (i==j):\n",
    "#             L_dia[i].append(l_buf[i])\n",
    "#             C_dia[i].append(c_buf[i])\n",
    "#             continue\n",
    "        \n",
    "#         L_dia[i].append(0.)\n",
    "#         C_dia[i].append(0.)\n",
    "        \n",
    "# C_offDia = np.subtract(C,C_dia)\n",
    "# L_offDia = np.subtract(L,L_dia)"
   ]
  },
  {
   "cell_type": "code",
   "execution_count": 4,
   "metadata": {
    "collapsed": true
   },
   "outputs": [],
   "source": [
    "#Now - getting alpha, gamma, M\n",
    "\n",
    "alpha = []\n",
    "gamma = []\n",
    "    \n",
    "for i in range(N+1):\n",
    "    alpha.append([])\n",
    "    gamma.append([])\n",
    "    for j in range(N+1):#no 2*!!!!!\n",
    "        alpha[i].append( 0.5 * (w[i]*w[j])**0.5 * ( (l_buf[i]*l_buf[j])**(-0.5) * L[i][j] - (c_buf[i]*c_buf[j])**(-0.5) * C[i][j] ) )\n",
    "        gamma[i].append( 0.5 * (w[i]*w[j])**0.5 * ( (l_buf[i]*l_buf[j])**(-0.5) * L[i][j] + (c_buf[i]*c_buf[j])**(-0.5) * C[i][j] ) )\n",
    "        \n",
    "        \n",
    "D = np.empty([2*N+2, 2*N+2])\n",
    "\n",
    "for i in range(2*N+2):\n",
    "    for j in range(2*N+2):\n",
    "        if ((i< (N + 1))&(j<(N +1))):\n",
    "            D[i][j] = (alpha[i][j])\n",
    "            continue\n",
    "        \n",
    "        if ( (i> N )&(j> N) ):\n",
    "            D[i][j] = (  - alpha[i - N - 1][j - N - 1 ])#-\n",
    "            continue\n",
    "            \n",
    "        if ( (i< (N + 1) )&(j> N ) ):\n",
    "            D[i][j] = (  gamma[i][j - N - 1] )\n",
    "            continue    \n",
    "            \n",
    "        if ( (i> N  )&(j< (N + 1)) ):\n",
    "            D[i][j] = (  - gamma[i - N - 1][j] )#-\n",
    "            continue "
   ]
  },
  {
   "cell_type": "code",
   "execution_count": 5,
   "metadata": {
    "collapsed": false
   },
   "outputs": [],
   "source": [
    "(freq,v) = np.linalg.eigh(D)"
   ]
  },
  {
   "cell_type": "code",
   "execution_count": 6,
   "metadata": {
    "collapsed": false
   },
   "outputs": [],
   "source": [
    "nums = linspace(0,2*N + 1, 2*N + 2)\n",
    "plt.plot(nums - N - 1 ,freq/6.28e9,'ro')\n",
    "#plt.ylim(-30,30)\n",
    "plt.show()"
   ]
  },
  {
   "cell_type": "code",
   "execution_count": 100,
   "metadata": {
    "collapsed": false
   },
   "outputs": [],
   "source": [
    "nums = linspace(0,2*N + 1, 2*N + 2)\n",
    "plt.plot(nums - N - 1 ,v[82])\n",
    "#plt.ylim(-30,30)\n",
    "plt.show()"
   ]
  },
  {
   "cell_type": "code",
   "execution_count": 121,
   "metadata": {
    "collapsed": false
   },
   "outputs": [],
   "source": []
  },
  {
   "cell_type": "markdown",
   "metadata": {},
   "source": [
    "# Amplification calc"
   ]
  },
  {
   "cell_type": "code",
   "execution_count": 48,
   "metadata": {
    "collapsed": false
   },
   "outputs": [
    {
     "name": "stdout",
     "output_type": "stream",
     "text": [
      "36.45 175.0 23.4 31.9960935116\n"
     ]
    }
   ],
   "source": [
    "#Constants\n",
    "\n",
    "\n",
    "kappa_p = 400e6 * 6.28\n",
    "kappa_s = 0.66*400e6 * 6.28\n",
    "kappa_i = 400e6 * 6.28\n",
    "\n",
    "#w_p0 = 7.5 * 6.28e9\n",
    "w_s0 = 10.5 * 6.28e9\n",
    "w_i0 = 3.9 * 6.28e9\n",
    "w_p0 = (w_s0 + w_i0)/2\n",
    "\n",
    "\n",
    "K_base = -1e4\n",
    "K_p =  K_base * 6 *  (w_p0/6.28e9) * 0.25 * 9 * 0.375\n",
    "K_ps = K_base * 24 * (w_s0/6.28e9)/9 * 25 * 0.25 #No /4!!!!!\n",
    "K_pi = K_base * 24 * (w_i0/6.28e9) * 0.25\n",
    "K_psi = K_base * 24* ((w_i0*w_s0)**0.5/6.28e9) / 3 * 5 * 0.125\n",
    "\n",
    "print K_p/K_base, K_ps/K_base, K_pi/K_base, K_psi/K_base"
   ]
  },
  {
   "cell_type": "markdown",
   "metadata": {},
   "source": [
    "Pump duffing"
   ]
  },
  {
   "cell_type": "code",
   "execution_count": 47,
   "metadata": {
    "collapsed": false
   },
   "outputs": [],
   "source": [
    "##################################################\n",
    "#Created to check if power is ok                ##\n",
    "##################################################\n",
    "w_p_real = (w_s0 + w_i0)/2\n",
    "\n",
    "\n",
    "freq_min = w_p_real - 3*kappa_p\n",
    "freq_max = w_p_real + 3 * kappa_p\n",
    "freq_num = 5e2\n",
    "\n",
    "\n",
    "def getPumpAlpha(alpha_in, w_p):\n",
    "    def f(x,w_p):\n",
    "        return( (  (w_p - w_p0)**2 + 0.25*kappa_p**2 )*x - 2*(w_p - w_p0)*K_p*x**2 + K_p**2 * x**3 - kappa_p * alpha_in**2 )\n",
    "    \n",
    "    a = (scipy.optimize.bisect(lambda x: f(x, w_p), 0,1e9, xtol=1e-17))**0.5\n",
    "    \n",
    "    return(a)\n",
    "\n",
    "###TODO\n",
    "#check all signs where kappa involved\n",
    "\n",
    "\n",
    "#Rough search\n",
    "#for alpha_log in linspace(-30, 30, 10):\n",
    " #   alpha_in = 10**(0.1*alpha_log)\n",
    "    \n",
    "#Smooth tuning\n",
    "for alpha_in in linspace(1e6, 2e6, 10):\n",
    "\n",
    "    def f(x,w_p):\n",
    "        return( ( (w_p - w_p0)**2 + 0.25*kappa_p**2 )*x - 2*(w_p - w_p0)*K_p*x**2 + K_p**2 * x**3 - kappa_p * alpha_in**2 )\n",
    "\n",
    "    n_array = []\n",
    "    for f_p in linspace(freq_min, freq_max, freq_num):\n",
    "        n_array.append((scipy.optimize.bisect(lambda x: f(x, f_p), 0,1e9, xtol=1e-17))**0.5)\n",
    "\n",
    "    bufer = np.array(n_array)\n",
    "    f_p = linspace(freq_min - w_p0, freq_max - w_p0, freq_num)\n",
    "\n",
    "    plt.plot( (f_p)/kappa_p, bufer, label = str(alpha_in) )\n",
    "    \n",
    "\n",
    "#plt.xlim(-2,0)\n",
    "plt.axvline((w_p_real - w_p0)/6.28e9)\n",
    "plt.xlabel('(f_p - f_p0)/kappa_p')\n",
    "plt.ylabel('|alpha|')\n",
    "plt.title('')\n",
    "#plt.legend()\n",
    "plt.show()"
   ]
  },
  {
   "cell_type": "code",
   "execution_count": 94,
   "metadata": {
    "collapsed": false
   },
   "outputs": [
    {
     "data": {
      "text/plain": [
       "19.163444039389958"
      ]
     },
     "execution_count": 94,
     "metadata": {},
     "output_type": "execute_result"
    }
   ],
   "source": [
    "getPumpAlpha(5e5, w_p0 - 0.7*kappa_p)"
   ]
  },
  {
   "cell_type": "code",
   "execution_count": 39,
   "metadata": {
    "collapsed": false
   },
   "outputs": [],
   "source": [
    "def W(w, w_0, kappa ,K, alpha):\n",
    "    return( 1j * (w - w_0) + 0*1j - 0.5*kappa - 0.5j * K * alpha**2 )\n",
    "\n",
    "def Gs(ws, w_p,alpha):\n",
    "    w_i = 2*w_p - w_s\n",
    "    W_i = W(w_i, w_i0, kappa_i, K_pi, alpha).conjugate()\n",
    "    W_s = W(w_s, w_s0, kappa_s, K_ps, alpha)\n",
    "    \n",
    "    g = -1. - kappa_s * W_i / ( 0*1j + W_s * W_i - 0.25 * K_psi**2 * alpha**4 )\n",
    "    return(20*np.log10(abs(g)))\n",
    "    #return g\n",
    "    \n",
    "def Gi(ws, w_p,alpha):\n",
    "    w_i = 2*w_p - w_s\n",
    "    W_i = W(w_i, w_i0, kappa_i, K_pi, alpha).conjugate()\n",
    "    W_s = W(w_s, w_s0, kappa_s, K_ps, alpha)\n",
    "\n",
    "    i = 0.5j * (kappa_s*kappa_i)**0.5 * K_psi*alpha**2/ (0*1j + W_s * W_i - 0.25 * K_psi**2 * alpha**4 )\n",
    "    return(20*np.log10(abs( i )))\n",
    "    #return i"
   ]
  },
  {
   "cell_type": "code",
   "execution_count": 40,
   "metadata": {
    "collapsed": true
   },
   "outputs": [],
   "source": [
    "#TODO\n",
    "#Write down code which will plot both Gain(pump parameters) and duffung curves of pump simultaneously!!!!! "
   ]
  },
  {
   "cell_type": "code",
   "execution_count": 45,
   "metadata": {
    "collapsed": false
   },
   "outputs": [
    {
     "name": "stdout",
     "output_type": "stream",
     "text": [
      "18.5873222264\n",
      "19.6622364124\n",
      "20.75534396\n",
      "21.8686403452\n",
      "23.0043996688\n",
      "24.1652369249\n",
      "25.3541889763\n",
      "26.5748212207\n",
      "27.8313711079\n",
      "29.1289449426\n",
      "30.4737948052\n",
      "31.8737187816\n",
      "33.3386592207\n",
      "34.8816331339\n",
      "36.5202514882\n",
      "38.2793564649\n",
      "40.1959785826\n",
      "42.3297181332\n",
      "44.7881908199\n",
      "47.8076894398\n",
      "21.8506878747\n",
      "23.1857777732\n",
      "24.5598799085\n",
      "25.9789400276\n",
      "27.4502574402\n",
      "28.9829689839\n",
      "30.5887762968\n",
      "32.2830833563\n",
      "34.08686605\n",
      "36.0299395077\n",
      "38.1571428623\n",
      "40.5413797878\n",
      "43.3157438044\n",
      "46.7751237622\n",
      "51.909733612\n",
      "67.5833271582\n",
      "72.9732132267\n",
      "75.6059500615\n",
      "77.4863258658\n",
      "78.9921501527\n",
      "26.4390998875\n",
      "28.2253370027\n",
      "30.1120836453\n",
      "32.1234457601\n",
      "34.2931057103\n",
      "36.6702314084\n",
      "39.3305025763\n",
      "42.3977194984\n",
      "46.0845871954\n",
      "50.719105182\n",
      "56.2578311398\n",
      "61.1542137646\n",
      "64.6365490524\n",
      "67.1891960745\n",
      "69.1980251841\n",
      "70.8647613752\n",
      "72.2991708841\n",
      "73.5660427781\n",
      "74.7064398264\n",
      "75.7479177135\n",
      "32.9109867323\n",
      "35.4571264936\n",
      "38.2152132508\n",
      "41.2074698802\n",
      "44.417688902\n",
      "47.7451209649\n",
      "50.9929861196\n",
      "53.9620156822\n",
      "56.5615020496\n",
      "58.8060253896\n",
      "60.7531065023\n",
      "62.4628055804\n",
      "63.984737152\n",
      "65.3570150138\n",
      "66.6083855881\n",
      "67.7605914395\n",
      "68.8302627453\n",
      "69.8303004527\n",
      "70.770860826\n",
      "71.6600539887\n",
      "38.9122657449\n",
      "41.4185115406\n",
      "43.8463172255\n",
      "46.1506491755\n",
      "48.302632493\n",
      "50.2915956927\n",
      "52.1210810257\n",
      "53.8029585032\n",
      "55.3525681893\n",
      "56.7856936239\n",
      "58.1170336668\n",
      "59.3596070449\n",
      "60.5246495377\n",
      "61.6217360981\n",
      "62.6589850447\n",
      "63.6432755143\n",
      "64.5804484973\n",
      "65.475481308\n",
      "66.3326341864\n",
      "67.1555715231\n",
      "39.6106397621\n",
      "41.4434411438\n",
      "43.1821910385\n",
      "44.8272338443\n",
      "46.3816438088\n",
      "47.8502595576\n",
      "49.238876412\n",
      "50.553650473\n",
      "51.8007006828\n",
      "52.9858677768\n",
      "54.1145852494\n",
      "55.1918245598\n",
      "56.2220863463\n",
      "57.2094182892\n",
      "58.1574468935\n",
      "59.0694152957\n",
      "59.9482223468\n",
      "60.7964604028\n",
      "61.6164503642\n",
      "62.410273473\n",
      "37.066543809\n",
      "38.5655294445\n",
      "40.0020337942\n",
      "41.3784542129\n",
      "42.6976003257\n",
      "43.9625155892\n",
      "45.1763378013\n",
      "46.3421958369\n",
      "47.463137321\n",
      "48.5420810774\n",
      "49.5817885038\n",
      "50.5848487781\n",
      "51.5536739841\n",
      "52.4905008106\n",
      "53.3973966519\n",
      "54.2762683231\n",
      "55.1288722445\n",
      "55.9568252021\n",
      "56.7616152051\n",
      "57.5446120103\n",
      "33.3608891055\n",
      "34.6924336952\n",
      "35.9791701402\n",
      "37.2227922642\n",
      "38.4250959412\n",
      "39.5879293025\n",
      "40.7131528862\n",
      "41.8026086587\n",
      "42.8580968706\n",
      "43.8813594395\n",
      "44.8740685748\n",
      "45.8378197667\n",
      "46.7741278741\n",
      "47.6844258414\n",
      "48.5700651856\n",
      "49.4323177823\n",
      "50.2723786153\n",
      "51.0913691035\n",
      "51.8903407806\n",
      "52.6702791627\n",
      "29.4026384516\n",
      "30.6236448952\n",
      "31.8112025191\n",
      "32.9663072723\n",
      "34.0900145117\n",
      "35.1834169053\n",
      "36.2476260623\n",
      "37.2837574202\n",
      "38.2929181417\n",
      "39.276197468\n",
      "40.2346595116\n",
      "41.1693377429\n",
      "42.0812311021\n",
      "42.9713014107\n",
      "43.8404717866\n",
      "44.6896258919\n",
      "45.519607861\n",
      "46.3312226042\n",
      "47.1252366949\n",
      "47.9023793435\n",
      "25.6587327707\n",
      "26.7828808323\n",
      "27.8824301508\n",
      "28.9578254176\n",
      "30.0095692231\n",
      "31.0382093677\n",
      "32.0443276328\n",
      "33.0285300202\n",
      "33.9914383866\n",
      "34.9336833084\n",
      "35.8558981279\n",
      "36.7587139616\n",
      "37.6427556926\n",
      "38.5086386951\n",
      "39.3569661894\n",
      "40.188327321\n",
      "41.0032955846\n",
      "41.8024277511\n",
      "42.5862631229\n",
      "43.3553230562\n"
     ]
    }
   ],
   "source": [
    "w_p = w_p0 - 0.7*kappa_p\n",
    "w_s = linspace(w_s0 - 10*kappa_s, w_s0 + 3*kappa_s, 1e4)\n",
    "\n",
    "#getPumpAlpha(5e5, w_p0 - 0.7*kappa_p)\n",
    "\n",
    "#for w_p in linspace(w_p0 - 3*kappa_p, w_p0 - 0.5* kappa_p, 10):\n",
    "w_p = w_p0 - .8*kappa_p\n",
    "    #alpha = 25.\n",
    "for w_p in linspace(w_p_real - 1*kappa_p, w_p_real + .5* kappa_p, 10):\n",
    "    for alpha_in in linspace(1e6,2e6,20):\n",
    "        #alpha = 10**alpha_pow\n",
    "        alpha = getPumpAlpha(alpha_in, w_p)\n",
    "        print alpha\n",
    "        #print alpha\n",
    "        plt.plot((w_s - w_s0)/kappa_s,Gs(w_s, w_p, alpha))\n",
    "        #plt.plot((w_s - w_s0)/kappa_s, abs(Gs(w_s, w_p, alpha))**2 - abs(Gi(w_s, w_p, alpha))**2)\n",
    "    #plt.ylim(0.,2.)\n",
    "plt.show()"
   ]
  },
  {
   "cell_type": "code",
   "execution_count": 12,
   "metadata": {
    "collapsed": false
   },
   "outputs": [],
   "source": [
    "#Check\n",
    "def PumpShifter(alpha):\n",
    "    return((w_s0 + w_i0 + 0.5 * alpha**2 * (K_ps + K_pi))/2. )\n",
    "\n",
    "def PumpFreqShift(alpha):\n",
    "    return(w_p0 + K_p*alpha**2)\n",
    "\n",
    "alpha = linspace(1e0, 1e2, 5e1)\n",
    "plt.plot(alpha,(PumpShifter(alpha) - PumpFreqShift(0.)) /kappa_p, 'g', label = 'RealPump')\n",
    "plt.plot(alpha,(PumpFreqShift(alpha) - PumpFreqShift(0.)) /kappa_p, 'r', label = 'Pump Resonant Freq')\n",
    "plt.legend(loc = 3)\n",
    "plt.xlabel('alpha')\n",
    "plt.ylabel( '(Freq - Freeq_real0) / kappa_p')\n",
    "plt.axhline(-1.)\n",
    "plt.show()"
   ]
  },
  {
   "cell_type": "code",
   "execution_count": null,
   "metadata": {
    "collapsed": true
   },
   "outputs": [],
   "source": []
  }
 ],
 "metadata": {
  "kernelspec": {
   "display_name": "Python 2",
   "language": "python",
   "name": "python2"
  },
  "language_info": {
   "codemirror_mode": {
    "name": "ipython",
    "version": 2
   },
   "file_extension": ".py",
   "mimetype": "text/x-python",
   "name": "python",
   "nbconvert_exporter": "python",
   "pygments_lexer": "ipython2",
   "version": "2.7.10"
  }
 },
 "nbformat": 4,
 "nbformat_minor": 0
}
